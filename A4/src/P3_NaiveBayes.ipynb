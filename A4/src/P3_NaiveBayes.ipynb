{
 "cells": [
  {
   "cell_type": "code",
   "execution_count": 1,
   "metadata": {
    "collapsed": true
   },
   "outputs": [],
   "source": [
    "import pandas as pd\n",
    "import numpy as np\n",
    "from sklearn import preprocessing\n",
    "from sklearn.model_selection import KFold\n"
   ]
  },
  {
   "cell_type": "code",
   "execution_count": 12,
   "metadata": {
    "collapsed": true
   },
   "outputs": [],
   "source": [
    "\n",
    "classes = 0\n",
    "def load_n_process():\n",
    "    df = pd.read_csv(\"../datasets/census_income/census-income-data.csv\", header=None)\n",
    "    L = preprocessing.LabelEncoder()\n",
    "    col = 0\n",
    "    while col < df.shape[1]:\n",
    "        if ((df[col].dtype == 'int64') or (df[col].dtype == 'float64')):\n",
    "            dfqn = np.isreal(df.ix[:, col])\n",
    "            df2 = df[dfqn]\n",
    "            dfmean = np.mean(df2.ix[:, col])\n",
    "            df.ix[dfqn != True, col] = dfmean\n",
    "        else:\n",
    "            dfqn = df.ix[:, col] != ' ?'\n",
    "            if dfqn.all() != True:\n",
    "                df2 = df[dfqn]\n",
    "                modecol = df2.ix[:, col].mode()[0]\n",
    "                df.ix[dfqn != True, col] = modecol\n",
    "            df.ix[:, col] = L.fit_transform(df.ix[:, col])\n",
    "            df.ix[:,col] = df.ix[:,col].astype('category')\n",
    "        col += 1\n",
    "\n",
    "    return df"
   ]
  },
  {
   "cell_type": "code",
   "execution_count": 13,
   "metadata": {
    "collapsed": true
   },
   "outputs": [],
   "source": [
    "def calculculateProbs(df):\n",
    "    probs = {}\n",
    "    global classes\n",
    "    classes = np.unique(df.ix[:,41])\n",
    "    priorProb = {}\n",
    "    classProb={}\n",
    "\n",
    "    for cls in classes:\n",
    "        priorProb[cls] = np.log(df.ix[df.ix[:, 41] == cls, 41].size/float(df.shape[0]))\n",
    "        col = 0\n",
    "        colprob={}\n",
    "        while col < df.shape[1] -1:\n",
    "\n",
    "            if ((df[col].dtype == 'int64') or (df[col].dtype == 'float64')):\n",
    "               probd = {}\n",
    "               dfc = df.ix[df.ix[:, 41] == cls, col]\n",
    "               probd['mean'] =  dfc.mean()\n",
    "               probd['variance'] =  dfc.var()\n",
    "               colprob[col] = probd\n",
    "            else:\n",
    "\n",
    "                dfc = df[df.ix[:, 41] == cls]\n",
    "                cats = np.unique(dfc.ix[:,col])\n",
    "\n",
    "                catprob = {}\n",
    "                for cat in cats:\n",
    "                    catprob[cat] = dfc[dfc.ix[:, col] == cat].size/float(dfc.size)\n",
    "                colprob[col] = catprob\n",
    "\n",
    "            col +=1\n",
    "        classProb[cls] = colprob\n",
    "\n",
    "\n",
    "    probs['priorProb'] = priorProb\n",
    "    probs['classCondProb'] = classProb\n",
    "    return probs\n"
   ]
  },
  {
   "cell_type": "code",
   "execution_count": 14,
   "metadata": {
    "collapsed": true
   },
   "outputs": [],
   "source": [
    "def predict(dataset, probs ):\n",
    "\n",
    "    global classes\n",
    "    row =0\n",
    "    result = []\n",
    "    while row < dataset.shape[0]:\n",
    "\n",
    "        posteriorClassProbs = {}\n",
    "        predictedClass = 0\n",
    "        for cls in classes:\n",
    "            posteriorProb = 0\n",
    "            col=0\n",
    "            while col < dataset.shape[1]:\n",
    "\n",
    "                if ((dataset[col].dtype == 'int64') or (dataset[col].dtype == 'float64')):\n",
    "                    mean = probs['classCondProb'][cls][col]['mean']\n",
    "                    variance = probs['classCondProb'][cls][col]['variance']\n",
    "                    x= dataset.iloc[row][col]\n",
    "                    posteriorProb += (np.square(x-mean)/(float)(2*variance) + np.log(float(np.sqrt(2*np.pi*variance))))*(-1)\n",
    "                else:\n",
    "                    cat = dataset.iloc[row][col]\n",
    "                    if probs['classCondProb'][cls][col].has_key(cat):\n",
    "                        posteriorProb += np.log(probs['classCondProb'][cls][col][cat])\n",
    "                col += 1\n",
    "            posteriorProb += probs['priorProb'][cls]\n",
    "            posteriorClassProbs[posteriorProb] = cls\n",
    "\n",
    "        posteriorClassProb = 0\n",
    "        for prob in posteriorClassProbs.keys():\n",
    "            if posteriorClassProb == 0 or posteriorClassProb < prob:\n",
    "                posteriorClassProb =  prob\n",
    "                predictedClass = posteriorClassProbs[prob]\n",
    "\n",
    "\n",
    "        result.append(predictedClass)\n",
    "        row += 1\n",
    "    return result\n",
    "\n",
    "\n",
    "df = load_n_process()\n"
   ]
  },
  {
   "cell_type": "code",
   "execution_count": 17,
   "metadata": {
    "collapsed": false
   },
   "outputs": [
    {
     "name": "stdout",
     "output_type": "stream",
     "text": [
      "93.7941978907\n",
      "0.138985693473\n"
     ]
    }
   ],
   "source": [
    "kf = KFold(n_splits=10)\n",
    "accuracy = []\n",
    "for train, test in kf.split(df):\n",
    "    X_train, X_test = df.ix[train,:], df.ix[test, :]\n",
    "    Y_test = X_test.ix[:,41]\n",
    "    Y_test = Y_test.astype('int')\n",
    "    Y_test = pd.DataFrame(Y_test)\n",
    "    probs = calculculateProbs(X_train)\n",
    "    accuracy.append(100 - (np.sum(np.abs(Y_test[41] - predict(X_test.ix[:,:-1], probs)))/float(Y_test.shape[0]))*100)\n",
    "\n",
    "avg_accuracy = np.mean(accuracy)\n",
    "std_deviation = np.std(accuracy)\n",
    "print avg_accuracy\n",
    "print std_deviation"
   ]
  },
  {
   "cell_type": "code",
   "execution_count": 19,
   "metadata": {
    "collapsed": false
   },
   "outputs": [
    {
     "name": "stdout",
     "output_type": "stream",
     "text": [
      "acc : 93.7941978907\n",
      "std : 0.0\n"
     ]
    }
   ],
   "source": [
    "for i in range(1,3):               \n",
    "    kf = KFold(n_splits=10)\n",
    "    accuracy=[]\n",
    "    accuracy_iter = []\n",
    "    for train, test in kf.split(df):\n",
    "        X_train, X_test = df.ix[train,:], df.ix[test, :]\n",
    "        Y_test = X_test.ix[:,41]\n",
    "        Y_test = Y_test.astype('int')\n",
    "        Y_test = pd.DataFrame(Y_test)\n",
    "        probs = calculculateProbs(X_train)\n",
    "        accuracy_iter.append(100 - (np.sum(np.abs(Y_test[41] - predict(X_test.ix[:,:-1], probs)))/float(Y_test.shape[0]))*100)\n",
    "    accuracy_iter_mean = np.mean(accuracy_iter)\n",
    "    std_deviation = np.sqrt(np.var(accuracy_iter))\n",
    "    accuracy.append(accuracy_iter_mean)\n",
    "acc_mean = np.mean(accuracy)\n",
    "acc_std = np.std(accuracy)\n",
    "\n",
    "print(\"acc : {}\".format(acc_mean))\n",
    "print(\"std : {}\".format(acc_std))   \n",
    "\n"
   ]
  },
  {
   "cell_type": "code",
   "execution_count": null,
   "metadata": {
    "collapsed": true
   },
   "outputs": [],
   "source": []
  }
 ],
 "metadata": {
  "kernelspec": {
   "display_name": "Python [Root]",
   "language": "python",
   "name": "Python [Root]"
  },
  "language_info": {
   "codemirror_mode": {
    "name": "ipython",
    "version": 2
   },
   "file_extension": ".py",
   "mimetype": "text/x-python",
   "name": "python",
   "nbconvert_exporter": "python",
   "pygments_lexer": "ipython2",
   "version": "2.7.12"
  }
 },
 "nbformat": 4,
 "nbformat_minor": 0
}
