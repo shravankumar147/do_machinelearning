{
 "cells": [
  {
   "cell_type": "code",
   "execution_count": 265,
   "metadata": {
    "collapsed": false
   },
   "outputs": [],
   "source": [
    "import pandas as pd\n",
    "import numpy as np\n",
    "import random\n",
    "import matplotlib.pyplot as plt\n",
    "from skimage.transform import resize\n",
    "from skimage.filters import threshold_otsu\n",
    "from sklearn import preprocessing\n",
    "from sklearn.preprocessing import OneHotEncoder\n",
    "\n",
    "%matplotlib inline"
   ]
  },
  {
   "cell_type": "code",
   "execution_count": 266,
   "metadata": {
    "collapsed": true
   },
   "outputs": [],
   "source": [
    "digits = pd.read_csv(\"../datasets/optdigits/optdigits_train.csv\", header=None)\n",
    "digits_test = pd.read_csv(\"../datasets/optdigits/optdigits_test.csv.txt\", header=None)\n",
    "# Print the `digits` data \n",
    "# print(digits)\n",
    "# print(digits_test)"
   ]
  },
  {
   "cell_type": "code",
   "execution_count": 267,
   "metadata": {
    "collapsed": false
   },
   "outputs": [],
   "source": [
    "import numpy as np\n",
    "D= digits.as_matrix()\n",
    "# X_train = np.array(D[:,:-1])\n",
    "ylabelD = np.array(D[:,-1])\n",
    "# print(X_train.shape,y_train.shape)\n",
    "# X_train"
   ]
  },
  {
   "cell_type": "code",
   "execution_count": 268,
   "metadata": {
    "collapsed": false
   },
   "outputs": [],
   "source": [
    "Dtest = digits_test.as_matrix()\n",
    "# X_test = np.array(Dtest[:,:-1])\n",
    "ylabelT = np.array(Dtest[:,-1])\n",
    "\n",
    "# print(X_test.shape, y_test.shape)\n",
    "# print(X_train.shape[0] + X_test.shape[0])\n",
    "# X_test"
   ]
  },
  {
   "cell_type": "code",
   "execution_count": 269,
   "metadata": {
    "collapsed": false
   },
   "outputs": [],
   "source": [
    "Lindex = []\n",
    "for i in xrange(0,11):\n",
    "    l = np.where(ylabelD==i)\n",
    "    Lindex.append(l)   "
   ]
  },
  {
   "cell_type": "code",
   "execution_count": 341,
   "metadata": {
    "collapsed": false
   },
   "outputs": [
    {
     "name": "stdout",
     "output_type": "stream",
     "text": [
      "(1163, 64)\n",
      "No. of input units for the network from training set : 1163\n",
      "No. of output units for the network from training set : 3\n"
     ]
    }
   ],
   "source": [
    "# learn a 3-class classifier for optical character recognition \n",
    "# for any three digits between 0 and 9.\n",
    "\n",
    "X1 = D[Lindex[1]]\n",
    "X4 = D[Lindex[4]]\n",
    "X7 = D[Lindex[7]]\n",
    "\n",
    "#cancatinating the three classes\n",
    "X_new = np.vstack([X1,X4,X7])\n",
    "\n",
    "# Splitting the data into Xtrain and ytrain)(lables)\n",
    "X_train = np.array(X_new[:,:-1])\n",
    "y_train = np.array(X_new[:,-1])\n",
    "\n",
    "n_inputs = len(X_train)\n",
    "n_outputs = len(np.unique(y_train))\n",
    "\n",
    "print(X_train.shape)\n",
    "\n",
    "print(\"No. of input units for the network from training set : {}\".format(n_inputs))\n",
    "print(\"No. of output units for the network from training set : {}\".format(n_outputs))"
   ]
  },
  {
   "cell_type": "code",
   "execution_count": 271,
   "metadata": {
    "collapsed": false
   },
   "outputs": [
    {
     "data": {
      "text/plain": [
       "array([1, 1, 1, ..., 7, 7, 7])"
      ]
     },
     "execution_count": 271,
     "metadata": {},
     "output_type": "execute_result"
    }
   ],
   "source": [
    "y_train"
   ]
  },
  {
   "cell_type": "code",
   "execution_count": 272,
   "metadata": {
    "collapsed": false
   },
   "outputs": [
    {
     "data": {
      "text/plain": [
       "array([0, 0, 0, ..., 2, 2, 2])"
      ]
     },
     "execution_count": 272,
     "metadata": {},
     "output_type": "execute_result"
    }
   ],
   "source": [
    "L = preprocessing.LabelEncoder()\n",
    "y_trainL = L.fit_transform(y_train)\n",
    "y_trainL\n",
    "ytrain_OH= np.zeros((len(X_train),len(np.unique(y_train))))\n",
    "for i in range(y_trainL.shape[0]):\n",
    "    ytrain_OH[i, y_trainL[i]] = 1\n",
    "    \n",
    "y_trainL    "
   ]
  },
  {
   "cell_type": "code",
   "execution_count": 273,
   "metadata": {
    "collapsed": true
   },
   "outputs": [],
   "source": [
    "LindexT = []\n",
    "for i in xrange(0,11):\n",
    "    l = np.where(ylabelT==i)\n",
    "    LindexT.append(l)   "
   ]
  },
  {
   "cell_type": "code",
   "execution_count": 342,
   "metadata": {
    "collapsed": false
   },
   "outputs": [
    {
     "name": "stdout",
     "output_type": "stream",
     "text": [
      "No. of input units for the network from testing set: 542\n",
      "No. of output units for the network  from testing set: 3\n"
     ]
    }
   ],
   "source": [
    "Xtest1 = Dtest[LindexT[1]]\n",
    "Xtest4 = Dtest[LindexT[4]]\n",
    "Xtest7 = Dtest[LindexT[7]]\n",
    "\n",
    "#cancatinating the three classes\n",
    "Xtest_new = np.vstack([Xtest1,Xtest4,Xtest7])\n",
    "\n",
    "# Splitting the data into Xtrain and ytrain)(lables)\n",
    "X_test = np.array(Xtest_new[:,:-1])\n",
    "y_test = np.array(Xtest_new[:,-1])\n",
    "\n",
    "testlen = len(X_test)\n",
    "labellen = len(np.unique(y_test))\n",
    "\n",
    "print(\"No. of input units for the network from testing set: {}\".format(testlen))\n",
    "print(\"No. of output units for the network  from testing set: {}\".format(labellen))"
   ]
  },
  {
   "cell_type": "code",
   "execution_count": 343,
   "metadata": {
    "collapsed": false
   },
   "outputs": [
    {
     "data": {
      "text/plain": [
       "array([[ 1.,  0.,  0.],\n",
       "       [ 1.,  0.,  0.],\n",
       "       [ 1.,  0.,  0.],\n",
       "       ..., \n",
       "       [ 0.,  0.,  1.],\n",
       "       [ 0.,  0.,  1.],\n",
       "       [ 0.,  0.,  1.]])"
      ]
     },
     "execution_count": 343,
     "metadata": {},
     "output_type": "execute_result"
    }
   ],
   "source": [
    "# Label encoding and transforming to one hot form\n",
    "L1 = preprocessing.LabelEncoder()\n",
    "y_testL = L1.fit_transform(y_test)\n",
    "ytest_OH= np.zeros((len(X_test),len(np.unique(y_test))))\n",
    "for i in range(y_testL.shape[0]):\n",
    "    ytest_OH[i, y_testL[i]] = 1\n",
    "    \n",
    "ytest_OH"
   ]
  },
  {
   "cell_type": "code",
   "execution_count": 344,
   "metadata": {
    "collapsed": false
   },
   "outputs": [],
   "source": [
    "# The implementation for the Multi-layer Neural Network from scratch\n",
    "\n",
    "def sigmoid(x):\n",
    "    return 1/(1 + np.exp(-x))\n",
    "class MLP(object):\n",
    "    def __init__(self, X_train,y_train,nH):\n",
    "        self.X_train = X_train\n",
    "        self.y_train = y_train\n",
    "        \n",
    "        L = preprocessing.LabelEncoder()\n",
    "        self.y_trainL = L.fit_transform(self.y_train)\n",
    "        self.ytrain_OH= np.zeros((len(self.X_train),len(np.unique(self.y_train))))\n",
    "        for i in range(self.y_trainL.shape[0]):\n",
    "            self.ytrain_OH[i, y_trainL[i]] = 1\n",
    "\n",
    "        self.n_inputs = self.X_train.shape[1]\n",
    "        self.n_outputs = len(np.unique(y_train))\n",
    "        \n",
    "        self.weights1 = np.random.randn(self.n_inputs, nH)/float(np.sqrt(self.n_inputs))\n",
    "        self.b1 = np.zeros((nH))\n",
    "        self.weights2 = np.random.randn(nH, n_outputs)/float(np.sqrt(nH))\n",
    "        self.b2 = np.zeros((n_outputs))  \n",
    "\n",
    "    def predict(self):\n",
    "        # Forward Pass\n",
    "        predictions = []\n",
    "        for x in range(self.X_train.shape[0]):\n",
    "            a_1 = sigmoid(np.matmul((self.weights1).T, self.X_train[x,:])[:,np.newaxis]+self.b1[:,np.newaxis])  \n",
    "            a_2 = sigmoid(np.matmul(self.weights2.T, a_1)+self.b2[:, np.newaxis])\n",
    "            predictions.append(np.argmax(a_2, axis = 0))\n",
    "        predictions =  np.vstack(predictions)[:,0] \n",
    "        accuracy = np.sum(predictions == self.y_trainL)/float(np.shape(self.y_trainL)[0])\n",
    "        print('acc: {:.4f}'.format( accuracy))\n",
    "#         return a_2\n",
    "    \n",
    "    def testpredict(self,X_test, y_test):\n",
    "        # Forward Pass\n",
    "        print(\"testpredict()\")\n",
    "        L1 = preprocessing.LabelEncoder()\n",
    "        y_testL = L1.fit_transform(y_test)\n",
    "        predictions = []\n",
    "        for x in range(X_test.shape[0]):\n",
    "            a_1 = sigmoid(np.matmul((self.weights1).T, X_test[x,:])[:,np.newaxis]+self.b1[:,np.newaxis])  \n",
    "            a_2 = sigmoid(np.matmul(self.weights2.T, a_1)+self.b2[:, np.newaxis])\n",
    "            predictions.append(np.argmax(a_2, axis = 0))\n",
    "        predictions =  np.vstack(predictions)[:,0] \n",
    "        accuracy = np.sum(predictions == y_testL)/float(np.shape(y_testL)[0])\n",
    "        print(\"acc: {:.4f}\".format(accuracy))\n",
    "#         return a_2\n",
    "        \n",
    "\n",
    "    def train(self, max_epochs=10, lr_rate=0.01):\n",
    "\n",
    "        for i in range(max_epochs):\n",
    "            num_samples = self.X_train.shape[0]\n",
    "            shuffled_indices = random.sample(range(num_samples), num_samples)\n",
    "\n",
    "            for x in shuffled_indices:\n",
    "                 # Forward Pass\n",
    "                a_1 = sigmoid(np.matmul((self.weights1).T, self.X_train[x])[:,np.newaxis]+self.b1[:,np.newaxis])  \n",
    "\n",
    "                a_2 = sigmoid(np.matmul(self.weights2.T, a_1)+self.b2[:, np.newaxis])\n",
    "                \n",
    "                # Backpropagation\n",
    "                delta_2 = (a_2 - self.ytrain_OH[x][:, np.newaxis] )*(a_2*(1-a_2))\n",
    "                dE_dw_2 = np.matmul(a_1, delta_2.T)\n",
    "                dE_db_2 = (delta_2)\n",
    "                delta_1 = (a_1*(1-a_1))*np.matmul(self.weights2, delta_2)\n",
    "                dE_dw_1 = np.matmul(self.X_train[x][:,np.newaxis], delta_1.T)             \n",
    "                dE_db_1 = (delta_1)\n",
    "                self.weights1 = self.weights1 - lr_rate*dE_dw_1\n",
    "                self.b1 = self.b1 - lr_rate*dE_db_1[:,0]    \n",
    "                self.weights2 = self.weights2 - lr_rate*dE_dw_2\n",
    "                self.b2 = self.b2 - lr_rate*dE_db_2[:,0]\n",
    "            accuracy = self.predict()"
   ]
  },
  {
   "cell_type": "code",
   "execution_count": 357,
   "metadata": {
    "collapsed": false
   },
   "outputs": [
    {
     "name": "stdout",
     "output_type": "stream",
     "text": [
      "==============================\n",
      "Training with 5 hidden units\n",
      "accuracy\n",
      "==============================\n",
      "acc: 0.9226\n",
      "acc: 0.9708\n",
      "acc: 0.9647\n",
      "acc: 0.9897\n",
      "acc: 0.9854\n",
      "acc: 0.9725\n",
      "acc: 0.9854\n",
      "acc: 0.6518\n",
      "acc: 0.9862\n",
      "acc: 0.8899\n",
      "==============================\n",
      "Prediction accuracy on test data: \n",
      "testpredict()\n",
      "acc: 0.9077\n",
      "==============================\n"
     ]
    }
   ],
   "source": [
    "mlp5 = MLP(X_train,y_train,5)\n",
    "print(\"=\"*30)\n",
    "print(\"Training with 5 hidden units\")\n",
    "print(\"accuracy\")\n",
    "print(\"=\"*30)\n",
    "mlp5.train(lr_rate=0.1)\n",
    "print(\"=\"*30)\n",
    "print(\"Prediction accuracy on test data: \")\n",
    "mlp5.testpredict(X_test,y_test)\n",
    "print(\"=\"*30)"
   ]
  },
  {
   "cell_type": "markdown",
   "metadata": {},
   "source": [
    "### learning rate effect \n",
    "while using learning rate as 1, the network became so agressive, and could only predict around 50%"
   ]
  },
  {
   "cell_type": "code",
   "execution_count": 358,
   "metadata": {
    "collapsed": false
   },
   "outputs": [
    {
     "name": "stdout",
     "output_type": "stream",
     "text": [
      "==============================\n",
      "Training with 25 hidden units\n",
      "accuracy\n",
      "==============================\n",
      "acc: 0.3328\n",
      "acc: 0.5924\n",
      "acc: 0.4987\n"
     ]
    },
    {
     "name": "stderr",
     "output_type": "stream",
     "text": [
      "/home/shravankumar/anaconda2/lib/python2.7/site-packages/ipykernel/__main__.py:4: RuntimeWarning: overflow encountered in exp\n"
     ]
    },
    {
     "name": "stdout",
     "output_type": "stream",
     "text": [
      "acc: 0.5967\n",
      "acc: 0.6113\n",
      "acc: 0.5159\n",
      "acc: 0.5709\n",
      "acc: 0.5787\n",
      "acc: 0.5572\n",
      "acc: 0.5804\n",
      "==============================\n",
      "Prediction accuracy on test data: \n",
      "testpredict()\n",
      "acc: 0.5941\n",
      "==============================\n"
     ]
    }
   ],
   "source": [
    "mlp25 = MLP(X_train,y_train,25)\n",
    "print(\"=\"*30)\n",
    "print(\"Training with 25 hidden units\")\n",
    "print(\"accuracy\")\n",
    "print(\"=\"*30)\n",
    "mlp25.train(lr_rate=1)\n",
    "print(\"=\"*30)\n",
    "print(\"Prediction accuracy on test data: \")\n",
    "mlp25.testpredict(X_test,y_test)\n",
    "print(\"=\"*30)"
   ]
  },
  {
   "cell_type": "code",
   "execution_count": 359,
   "metadata": {
    "collapsed": false,
    "scrolled": true
   },
   "outputs": [
    {
     "name": "stdout",
     "output_type": "stream",
     "text": [
      "==============================\n",
      "Training with 125 hidden units\n",
      "accuracy\n",
      "==============================\n",
      "acc: 0.9785\n",
      "acc: 0.9871\n",
      "acc: 0.9940\n",
      "acc: 0.9966\n",
      "acc: 0.9983\n",
      "acc: 0.9991\n",
      "acc: 0.9991\n",
      "acc: 0.9991\n",
      "acc: 0.9991\n",
      "acc: 0.9991\n",
      "==============================\n",
      "Prediction accuracy on test data: \n",
      "testpredict()\n",
      "acc: 0.9871\n",
      "==============================\n"
     ]
    }
   ],
   "source": [
    "mlp125 = MLP(X_train,y_train,125)\n",
    "print(\"=\"*30)\n",
    "print(\"Training with 125 hidden units\")\n",
    "print(\"accuracy\")\n",
    "print(\"=\"*30)\n",
    "mlp125.train()\n",
    "print(\"=\"*30)\n",
    "print(\"Prediction accuracy on test data: \")\n",
    "mlp125.testpredict(X_test,y_test)\n",
    "print(\"=\"*30)"
   ]
  },
  {
   "cell_type": "code",
   "execution_count": 347,
   "metadata": {
    "collapsed": false
   },
   "outputs": [
    {
     "name": "stdout",
     "output_type": "stream",
     "text": [
      "==============================\n",
      "Training with 25 hidden units\n",
      "accuracy\n",
      "==============================\n",
      "acc: 0.9819\n",
      "acc: 0.9888\n",
      "acc: 0.9914\n",
      "acc: 0.9957\n",
      "acc: 0.9966\n",
      "acc: 0.9957\n",
      "acc: 0.9983\n",
      "acc: 0.9974\n",
      "acc: 0.9991\n",
      "acc: 0.9991\n",
      "==============================\n",
      "Prediction accuracy on test data: \n",
      "testpredict()\n",
      "acc: 0.9852\n",
      "==============================\n"
     ]
    }
   ],
   "source": [
    "mlp225 = MLP(X_train,y_train,225)\n",
    "print(\"=\"*30)\n",
    "print(\"Training with 25 hidden units\")\n",
    "print(\"accuracy\")\n",
    "print(\"=\"*30)\n",
    "mlp225.train()\n",
    "print(\"=\"*30)\n",
    "print(\"Prediction accuracy on test data: \")\n",
    "mlp225.testpredict(X_test,y_test)\n",
    "print(\"=\"*30)"
   ]
  },
  {
   "cell_type": "code",
   "execution_count": 348,
   "metadata": {
    "collapsed": false
   },
   "outputs": [
    {
     "name": "stdout",
     "output_type": "stream",
     "text": [
      "==============================\n",
      "Training with 25 hidden units\n",
      "accuracy\n",
      "==============================\n",
      "acc: 0.9854\n",
      "acc: 0.9871\n",
      "acc: 0.9940\n",
      "acc: 0.9974\n",
      "acc: 0.9983\n",
      "acc: 0.9983\n",
      "acc: 0.9983\n",
      "acc: 0.9983\n",
      "acc: 0.9983\n",
      "acc: 0.9983\n",
      "==============================\n",
      "Prediction accuracy on test data: \n",
      "testpredict()\n",
      "acc: 0.9908\n",
      "==============================\n"
     ]
    }
   ],
   "source": [
    "mlp225 = MLP(X_train,y_train,150)\n",
    "print(\"=\"*30)\n",
    "print(\"Training with 25 hidden units\")\n",
    "print(\"accuracy\")\n",
    "print(\"=\"*30)\n",
    "mlp225.train()\n",
    "print(\"=\"*30)\n",
    "print(\"Prediction accuracy on test data: \")\n",
    "mlp225.testpredict(X_test,y_test)\n",
    "print(\"=\"*30)"
   ]
  },
  {
   "cell_type": "code",
   "execution_count": 349,
   "metadata": {
    "collapsed": false
   },
   "outputs": [],
   "source": [
    "images = []\n",
    "size = (8,8)\n",
    "for x in X_train:\n",
    "    I = np.resize(x,size)\n",
    "    images.append(I)"
   ]
  },
  {
   "cell_type": "code",
   "execution_count": 350,
   "metadata": {
    "collapsed": false
   },
   "outputs": [
    {
     "data": {
      "image/png": "[encoded data removed]",
      "text/plain": [
       "<matplotlib.figure.Figure at 0x7ff020901b50>"
      ]
     },
     "metadata": {},
     "output_type": "display_data"
    }
   ],
   "source": [
    "imgs = np.array(images)\n",
    "plt.imshow(imgs[1],cmap='gray')\n",
    "I1 = imgs[1]\n",
    "plt.savefig(\"../Submission/Documentation/images/P1/GrayImage.png\")"
   ]
  },
  {
   "cell_type": "code",
   "execution_count": 351,
   "metadata": {
    "collapsed": false,
    "scrolled": true
   },
   "outputs": [
    {
     "data": {
      "image/png": "[encoded data removed]",
      "text/plain": [
       "<matplotlib.figure.Figure at 0x7ff0209bb250>"
      ]
     },
     "metadata": {},
     "output_type": "display_data"
    }
   ],
   "source": [
    "thresh = threshold_otsu(I1)\n",
    "binary = I1 > thresh\n",
    "plt.imshow(binary,cmap='gray')\n",
    "plt.savefig(\"../Submission/Documentation/images/P1/Digitized_Sample_Image.png\")"
   ]
  },
  {
   "cell_type": "code",
   "execution_count": 360,
   "metadata": {
    "collapsed": false
   },
   "outputs": [
    {
     "name": "stdout",
     "output_type": "stream",
     "text": [
      "Iteration 1, loss = 4.35570298\n",
      "Iteration 2, loss = 0.22492907\n",
      "Iteration 3, loss = 0.07938539\n",
      "Iteration 4, loss = 0.04339715\n",
      "Iteration 5, loss = 0.02301367\n",
      "Iteration 6, loss = 0.01639213\n",
      "Iteration 7, loss = 0.00819133\n",
      "Iteration 8, loss = 0.00763719\n",
      "Iteration 9, loss = 0.00479471\n",
      "Iteration 10, loss = 0.00308399\n",
      "Iteration 11, loss = 0.00224659\n",
      "Iteration 12, loss = 0.00195858\n",
      "Iteration 13, loss = 0.00155027\n",
      "Iteration 14, loss = 0.00141848\n",
      "Iteration 15, loss = 0.00124737\n",
      "Iteration 16, loss = 0.00116831\n",
      "Iteration 17, loss = 0.00104896\n",
      "Iteration 18, loss = 0.00099918\n",
      "Iteration 19, loss = 0.00092711\n",
      "Iteration 20, loss = 0.00088214\n",
      "Training loss did not improve more than tol=0.000100 for two consecutive epochs. Stopping.\n",
      "Training set score: 1.000000\n",
      "Test set score: 0.990775\n"
     ]
    }
   ],
   "source": [
    "from sklearn import datasets\n",
    "from sklearn.neural_network import MLPClassifier\n",
    "mlp = MLPClassifier(hidden_layer_sizes=(200,), max_iter=1000, alpha=1e-4,\n",
    "                    solver='sgd', verbose=10, tol=1e-4, random_state=1,\n",
    "                    learning_rate_init=.01)\n",
    "\n",
    "mlp.fit(X_train, y_train)\n",
    "print(\"Training set score: %f\" % mlp.score(X_train, y_train))\n",
    "print(\"Test set score: %f\" % mlp.score(X_test, y_test))"
   ]
  },
  {
   "cell_type": "code",
   "execution_count": null,
   "metadata": {
    "collapsed": true
   },
   "outputs": [],
   "source": []
  }
 ],
 "metadata": {
  "kernelspec": {
   "display_name": "Python [Root]",
   "language": "python",
   "name": "Python [Root]"
  },
  "language_info": {
   "codemirror_mode": {
    "name": "ipython",
    "version": 2
   },
   "file_extension": ".py",
   "mimetype": "text/x-python",
   "name": "python",
   "nbconvert_exporter": "python",
   "pygments_lexer": "ipython2",
   "version": "2.7.12"
  }
 },
 "nbformat": 4,
 "nbformat_minor": 0
}
