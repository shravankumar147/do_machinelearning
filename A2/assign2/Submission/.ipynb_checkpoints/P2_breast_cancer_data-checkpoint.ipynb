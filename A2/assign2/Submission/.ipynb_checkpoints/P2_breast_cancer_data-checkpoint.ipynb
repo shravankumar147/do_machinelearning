{
 "cells": [
  {
   "cell_type": "code",
   "execution_count": 9,
   "metadata": {
    "collapsed": true
   },
   "outputs": [],
   "source": [
    "import numpy as np\n",
    "import matplotlib.pyplot as plt\n",
    "import pandas as pd\n",
    "from sklearn.model_selection import KFold\n",
    "%matplotlib inline"
   ]
  },
  {
   "cell_type": "code",
   "execution_count": 10,
   "metadata": {
    "collapsed": false
   },
   "outputs": [],
   "source": [
    "df = pd.read_csv('../datasets/breast-cancer-wisconsin.csv', header=None)\n",
    "df = df[(df[6]!='?')].astype('float')\n",
    "del df[0]\n",
    "n = 1"
   ]
  },
  {
   "cell_type": "code",
   "execution_count": 13,
   "metadata": {
    "collapsed": false
   },
   "outputs": [],
   "source": [
    "data_matrix = df.as_matrix()\n",
    "\n",
    "features = data_matrix[:,0:-1]\n",
    "features = np.c_[np.ones(features.shape[0]), features]\n",
    "\n",
    "labels = data_matrix[:,-1]\n",
    "labels[labels==2] = 1\n",
    "labels[labels==4] = -1"
   ]
  },
  {
   "cell_type": "code",
   "execution_count": 24,
   "metadata": {
    "collapsed": false
   },
   "outputs": [],
   "source": [
    "def percp(X, Y, nb_epoch=1):\n",
    "    w = np.zeros(X.shape[1])\n",
    "    for epoch in range(nb_epoch):\n",
    "        for x,y in zip(X,Y):\n",
    "            if y*np.dot(x,w)<=0:\n",
    "                w = w+y*x\n",
    "    return w\n",
    "\n",
    "def p_predict(w, X):\n",
    "    predictions = []\n",
    "    for x in X:\n",
    "        predictions.append(sign(np.dot(w, x)))\n",
    "    return predictions\n",
    "\n",
    "def accuracy(predictions, labels):\n",
    "    acc = np.sum((predictions==labels)).astype('float')/len(predictions)    \n",
    "    return acc\n",
    "def pred_n_acc2(w,X,labels,predictions=None):\n",
    "    predictions = p_predict(w,X)\n",
    "    acc = accuracy(predictions,labels)\n",
    "    return predictions,acc"
   ]
  },
  {
   "cell_type": "code",
   "execution_count": 25,
   "metadata": {
    "collapsed": false
   },
   "outputs": [
    {
     "name": "stdout",
     "output_type": "stream",
     "text": [
      "1.Fold:1    Epoch:10    acc:0.971\n",
      "1.Fold:1    Epoch:15    acc:0.9275\n",
      "1.Fold:1    Epoch:20    acc:0.9275\n",
      "1.Fold:1    Epoch:25    acc:0.971\n",
      "1.Fold:1    Epoch:30    acc:0.942\n",
      "1.Fold:1    Epoch:35    acc:0.9565\n",
      "1.Fold:1    Epoch:40    acc:0.942\n",
      "1.Fold:1    Epoch:45    acc:0.913\n",
      "1.Fold:1    Epoch:50    acc:0.971\n",
      "========    ========    ==========\n",
      "2.Fold:2    Epoch:10    acc:0.942\n",
      "2.Fold:2    Epoch:15    acc:0.9275\n",
      "2.Fold:2    Epoch:20    acc:0.9275\n",
      "2.Fold:2    Epoch:25    acc:0.971\n",
      "2.Fold:2    Epoch:30    acc:0.9565\n",
      "2.Fold:2    Epoch:35    acc:0.9565\n",
      "2.Fold:2    Epoch:40    acc:0.971\n",
      "2.Fold:2    Epoch:45    acc:0.971\n",
      "2.Fold:2    Epoch:50    acc:0.9855\n",
      "========    ========    ==========\n",
      "3.Fold:3    Epoch:10    acc:0.971\n",
      "3.Fold:3    Epoch:15    acc:0.9855\n",
      "3.Fold:3    Epoch:20    acc:0.9855\n",
      "3.Fold:3    Epoch:25    acc:0.9855\n",
      "3.Fold:3    Epoch:30    acc:0.9565\n",
      "3.Fold:3    Epoch:35    acc:0.9565\n",
      "3.Fold:3    Epoch:40    acc:0.9855\n",
      "3.Fold:3    Epoch:45    acc:0.9855\n",
      "3.Fold:3    Epoch:50    acc:0.9855\n",
      "========    ========    ==========\n",
      "4.Fold:4    Epoch:10    acc:0.9265\n",
      "4.Fold:4    Epoch:15    acc:0.9412\n",
      "4.Fold:4    Epoch:20    acc:0.9412\n",
      "4.Fold:4    Epoch:25    acc:0.9412\n",
      "4.Fold:4    Epoch:30    acc:0.9412\n",
      "4.Fold:4    Epoch:35    acc:0.9412\n",
      "4.Fold:4    Epoch:40    acc:0.9412\n",
      "4.Fold:4    Epoch:45    acc:0.9412\n",
      "4.Fold:4    Epoch:50    acc:0.9265\n",
      "========    ========    ==========\n",
      "5.Fold:5    Epoch:10    acc:0.9118\n",
      "5.Fold:5    Epoch:15    acc:0.9559\n",
      "5.Fold:5    Epoch:20    acc:0.9265\n",
      "5.Fold:5    Epoch:25    acc:0.9559\n",
      "5.Fold:5    Epoch:30    acc:0.9265\n",
      "5.Fold:5    Epoch:35    acc:0.9412\n",
      "5.Fold:5    Epoch:40    acc:0.9118\n",
      "5.Fold:5    Epoch:45    acc:0.9559\n",
      "5.Fold:5    Epoch:50    acc:0.9265\n",
      "========    ========    ==========\n",
      "6.Fold:6    Epoch:10    acc:0.9706\n",
      "6.Fold:6    Epoch:15    acc:0.9706\n",
      "6.Fold:6    Epoch:20    acc:0.9853\n",
      "6.Fold:6    Epoch:25    acc:0.9853\n",
      "6.Fold:6    Epoch:30    acc:1.0\n",
      "6.Fold:6    Epoch:35    acc:1.0\n",
      "6.Fold:6    Epoch:40    acc:1.0\n",
      "6.Fold:6    Epoch:45    acc:1.0\n",
      "6.Fold:6    Epoch:50    acc:1.0\n",
      "========    ========    ==========\n",
      "7.Fold:7    Epoch:10    acc:0.9559\n",
      "7.Fold:7    Epoch:15    acc:0.9706\n",
      "7.Fold:7    Epoch:20    acc:0.9412\n",
      "7.Fold:7    Epoch:25    acc:0.9559\n",
      "7.Fold:7    Epoch:30    acc:0.9706\n",
      "7.Fold:7    Epoch:35    acc:0.9706\n",
      "7.Fold:7    Epoch:40    acc:0.9559\n",
      "7.Fold:7    Epoch:45    acc:0.9559\n",
      "7.Fold:7    Epoch:50    acc:0.9706\n",
      "========    ========    ==========\n",
      "8.Fold:8    Epoch:10    acc:0.9853\n",
      "8.Fold:8    Epoch:15    acc:0.9559\n",
      "8.Fold:8    Epoch:20    acc:0.9559\n",
      "8.Fold:8    Epoch:25    acc:0.9559\n",
      "8.Fold:8    Epoch:30    acc:0.9559\n",
      "8.Fold:8    Epoch:35    acc:0.9559\n",
      "8.Fold:8    Epoch:40    acc:0.9706\n",
      "8.Fold:8    Epoch:45    acc:1.0\n",
      "8.Fold:8    Epoch:50    acc:0.9853\n",
      "========    ========    ==========\n",
      "9.Fold:9    Epoch:10    acc:0.9706\n",
      "9.Fold:9    Epoch:15    acc:0.9853\n",
      "9.Fold:9    Epoch:20    acc:0.9559\n",
      "9.Fold:9    Epoch:25    acc:0.8824\n",
      "9.Fold:9    Epoch:30    acc:0.9853\n",
      "9.Fold:9    Epoch:35    acc:0.9853\n",
      "9.Fold:9    Epoch:40    acc:0.9412\n",
      "9.Fold:9    Epoch:45    acc:0.9853\n",
      "9.Fold:9    Epoch:50    acc:0.9853\n",
      "========    ========    ==========\n",
      "10.Fold:10    Epoch:10    acc:1.0\n",
      "10.Fold:10    Epoch:15    acc:1.0\n",
      "10.Fold:10    Epoch:20    acc:0.9853\n",
      "10.Fold:10    Epoch:25    acc:0.9706\n",
      "10.Fold:10    Epoch:30    acc:1.0\n",
      "10.Fold:10    Epoch:35    acc:0.9853\n",
      "10.Fold:10    Epoch:40    acc:0.9853\n",
      "10.Fold:10    Epoch:45    acc:0.9853\n",
      "10.Fold:10    Epoch:50    acc:1.0\n",
      "========    ========    ==========\n"
     ]
    }
   ],
   "source": [
    "X = features\n",
    "y = labels\n",
    "kf = KFold(n_splits=10)\n",
    "fold = 0\n",
    "num = 1\n",
    "count = 0\n",
    "Ap = []\n",
    "for train, test in kf.split(X):\n",
    "    X_train, X_test, y_train, y_test = X[train], X[test], y[train], y[test]\n",
    "    for epoch in xrange(10,55,5):\n",
    "        v1 = percp(X_train,y_train, nb_epoch=epoch)\n",
    "        pred,acc = pred_n_acc2(v1,X_test,y_test)\n",
    "        print(\"{}.Fold:{}    Epoch:{}    acc:{}\".format(num,fold+1,epoch,round(acc,4)))\n",
    "        Ap.append(acc)\n",
    "        count+=1\n",
    "    print(\"========    ========    ==========\")\n",
    "    \n",
    "    fold+=1\n",
    "    num+=1"
   ]
  },
  {
   "cell_type": "code",
   "execution_count": 40,
   "metadata": {
    "collapsed": true
   },
   "outputs": [],
   "source": [
    "def vpercp(X, Y, nb_epoch=1,kfold=10):\n",
    "    w1 = np.zeros(features.shape[1])\n",
    "    c1 = 1\n",
    "    v1 = []\n",
    "    p1 = []    \n",
    "    for epoch in range(nb_epoch):\n",
    "        for x,y in zip(X,Y):\n",
    "            u = np.inner(x,w1)\n",
    "            if y*u<=0:\n",
    "                v1.append(w1)\n",
    "                p1.append(c1)\n",
    "                w1 = w1+y*x\n",
    "                c1 = 1\n",
    "            else:\n",
    "                c1 =c1+1\n",
    "        v1.append(w1)\n",
    "        p1.append(c1)\n",
    "    return v1,p1\n",
    "\n",
    "def sign(x):\n",
    "    if x<0:\n",
    "        return -1\n",
    "    return 1\n",
    "\n",
    "def  vp_predict(v, p, X):\n",
    "    predictions = []\n",
    "    for x in X:\n",
    "        s  = 0\n",
    "        for w,c in zip(v,p):\n",
    "            s = s + c*sign(np.dot(w,x))\n",
    "        predictions.append(sign(s))\n",
    "    return predictions\n",
    "\n",
    "def accuracy(predictions, labels):\n",
    "    acc = np.sum((predictions==labels)).astype('float')/len(predictions)    \n",
    "    return acc\n",
    "\n",
    "def pred_n_acc(v,p,X,labels,predictions=None):\n",
    "    predictions = vp_predict(v,p,X)\n",
    "    acc = accuracy(predictions,labels)\n",
    "    return predictions,acc"
   ]
  },
  {
   "cell_type": "code",
   "execution_count": 43,
   "metadata": {
    "collapsed": false
   },
   "outputs": [
    {
     "name": "stdout",
     "output_type": "stream",
     "text": [
      "1.Fold:1    Epoch:10    acc:0.8986\n",
      "1.Fold:1    Epoch:15    acc:0.913\n",
      "1.Fold:1    Epoch:20    acc:0.913\n",
      "1.Fold:1    Epoch:25    acc:0.913\n",
      "1.Fold:1    Epoch:30    acc:0.913\n",
      "1.Fold:1    Epoch:35    acc:0.8986\n",
      "1.Fold:1    Epoch:40    acc:0.8986\n",
      "1.Fold:1    Epoch:45    acc:0.8986\n",
      "1.Fold:1    Epoch:50    acc:0.8986\n",
      "========    ========    ==========\n",
      "2.Fold:2    Epoch:10    acc:0.9275\n",
      "2.Fold:2    Epoch:15    acc:0.942\n",
      "2.Fold:2    Epoch:20    acc:0.942\n",
      "2.Fold:2    Epoch:25    acc:0.9565\n",
      "2.Fold:2    Epoch:30    acc:0.9565\n",
      "2.Fold:2    Epoch:35    acc:0.971\n",
      "2.Fold:2    Epoch:40    acc:0.971\n",
      "2.Fold:2    Epoch:45    acc:0.971\n",
      "2.Fold:2    Epoch:50    acc:0.971\n",
      "========    ========    ==========\n",
      "3.Fold:3    Epoch:10    acc:0.9855\n",
      "3.Fold:3    Epoch:15    acc:0.9855\n",
      "3.Fold:3    Epoch:20    acc:0.9855\n",
      "3.Fold:3    Epoch:25    acc:0.9855\n",
      "3.Fold:3    Epoch:30    acc:0.9855\n",
      "3.Fold:3    Epoch:35    acc:0.9855\n",
      "3.Fold:3    Epoch:40    acc:0.9855\n",
      "3.Fold:3    Epoch:45    acc:0.9855\n",
      "3.Fold:3    Epoch:50    acc:0.9855\n",
      "========    ========    ==========\n",
      "4.Fold:4    Epoch:10    acc:0.9412\n",
      "4.Fold:4    Epoch:15    acc:0.9412\n",
      "4.Fold:4    Epoch:20    acc:0.9412\n",
      "4.Fold:4    Epoch:25    acc:0.9412\n",
      "4.Fold:4    Epoch:30    acc:0.9412\n",
      "4.Fold:4    Epoch:35    acc:0.9412\n",
      "4.Fold:4    Epoch:40    acc:0.9412\n",
      "4.Fold:4    Epoch:45    acc:0.9412\n",
      "4.Fold:4    Epoch:50    acc:0.9412\n",
      "========    ========    ==========\n",
      "5.Fold:5    Epoch:10    acc:0.9412\n",
      "5.Fold:5    Epoch:15    acc:0.9412\n",
      "5.Fold:5    Epoch:20    acc:0.9412\n",
      "5.Fold:5    Epoch:25    acc:0.9265\n",
      "5.Fold:5    Epoch:30    acc:0.9265\n",
      "5.Fold:5    Epoch:35    acc:0.9265\n",
      "5.Fold:5    Epoch:40    acc:0.9265\n",
      "5.Fold:5    Epoch:45    acc:0.9265\n",
      "5.Fold:5    Epoch:50    acc:0.9265\n",
      "========    ========    ==========\n",
      "6.Fold:6    Epoch:10    acc:0.9706\n",
      "6.Fold:6    Epoch:15    acc:0.9706\n",
      "6.Fold:6    Epoch:20    acc:0.9706\n",
      "6.Fold:6    Epoch:25    acc:0.9706\n",
      "6.Fold:6    Epoch:30    acc:0.9706\n",
      "6.Fold:6    Epoch:35    acc:0.9706\n",
      "6.Fold:6    Epoch:40    acc:0.9706\n",
      "6.Fold:6    Epoch:45    acc:0.9853\n",
      "6.Fold:6    Epoch:50    acc:0.9853\n",
      "========    ========    ==========\n",
      "7.Fold:7    Epoch:10    acc:0.9265\n",
      "7.Fold:7    Epoch:15    acc:0.9412\n",
      "7.Fold:7    Epoch:20    acc:0.9412\n",
      "7.Fold:7    Epoch:25    acc:0.9412\n",
      "7.Fold:7    Epoch:30    acc:0.9559\n",
      "7.Fold:7    Epoch:35    acc:0.9559\n",
      "7.Fold:7    Epoch:40    acc:0.9706\n",
      "7.Fold:7    Epoch:45    acc:0.9706\n",
      "7.Fold:7    Epoch:50    acc:0.9706\n",
      "========    ========    ==========\n",
      "8.Fold:8    Epoch:10    acc:0.9559\n",
      "8.Fold:8    Epoch:15    acc:0.9706\n",
      "8.Fold:8    Epoch:20    acc:0.9706\n",
      "8.Fold:8    Epoch:25    acc:0.9706\n",
      "8.Fold:8    Epoch:30    acc:0.9706\n",
      "8.Fold:8    Epoch:35    acc:0.9706\n",
      "8.Fold:8    Epoch:40    acc:0.9706\n",
      "8.Fold:8    Epoch:45    acc:0.9706\n",
      "8.Fold:8    Epoch:50    acc:0.9706\n",
      "========    ========    ==========\n",
      "9.Fold:9    Epoch:10    acc:1.0\n",
      "9.Fold:9    Epoch:15    acc:1.0\n",
      "9.Fold:9    Epoch:20    acc:1.0\n",
      "9.Fold:9    Epoch:25    acc:1.0\n",
      "9.Fold:9    Epoch:30    acc:1.0\n",
      "9.Fold:9    Epoch:35    acc:1.0\n",
      "9.Fold:9    Epoch:40    acc:1.0\n",
      "9.Fold:9    Epoch:45    acc:1.0\n",
      "9.Fold:9    Epoch:50    acc:1.0\n",
      "========    ========    ==========\n",
      "10.Fold:10    Epoch:10    acc:0.9853\n",
      "10.Fold:10    Epoch:15    acc:1.0\n",
      "10.Fold:10    Epoch:20    acc:1.0\n",
      "10.Fold:10    Epoch:25    acc:1.0\n",
      "10.Fold:10    Epoch:30    acc:1.0\n",
      "10.Fold:10    Epoch:35    acc:1.0\n",
      "10.Fold:10    Epoch:40    acc:1.0\n",
      "10.Fold:10    Epoch:45    acc:1.0\n",
      "10.Fold:10    Epoch:50    acc:1.0\n",
      "========    ========    ==========\n"
     ]
    }
   ],
   "source": [
    "X = features\n",
    "y = labels\n",
    "kf = KFold(n_splits=10)\n",
    "fold = 0\n",
    "num = 1\n",
    "Av = []\n",
    "for train, test in kf.split(X):\n",
    "    X_train, X_test, y_train, y_test = X[train], X[test], y[train], y[test]\n",
    "    for epoch in xrange(10,55,5):\n",
    "        v1,p1 = vpercp(X_train, y_train, nb_epoch=epoch)\n",
    "#         print v1\n",
    "        pred,acc = pred_n_acc(v1,p1,X_test,y_test)\n",
    "        print(\"{}.Fold:{}    Epoch:{}    acc:{}\".format(num,fold+1,epoch,round(acc,4)))\n",
    "        Av.append(acc)\n",
    "    print(\"========    ========    ==========\")\n",
    "    \n",
    "    fold+=1\n",
    "    num+=1\n",
    "    \n",
    "    "
   ]
  },
  {
   "cell_type": "markdown",
   "metadata": {},
   "source": [
    "array([ 300.,   -7.,  -20.,  -11.,   -4.,    3.,  -15.,  -11.,   -1.,  -20.])"
   ]
  },
  {
   "cell_type": "code",
   "execution_count": 44,
   "metadata": {
    "collapsed": false
   },
   "outputs": [],
   "source": [
    "Av = np.array(Av)\n",
    "Av = np.reshape(Av,[10,9])\n",
    "Avm = np.mean(Av,axis=0)\n",
    "\n",
    "Ap = np.array(Ap)\n",
    "Ap = np.reshape(Ap,[10,9])\n",
    "Apm = np.mean(Ap,axis=0)  "
   ]
  },
  {
   "cell_type": "code",
   "execution_count": 45,
   "metadata": {
    "collapsed": false
   },
   "outputs": [
    {
     "data": {
      "image/png": "[encoded data removed]",
      "text/plain": [
       "<matplotlib.figure.Figure at 0x7effe5dc4f90>"
      ]
     },
     "metadata": {},
     "output_type": "display_data"
    }
   ],
   "source": [
    "x = range(10,55,5)\n",
    "plt.plot(x,Avm,'g*',label = \"voted-perceptron\")\n",
    "plt.plot(x,Avm,'g')\n",
    "plt.plot(x,Apm,'ro', label = \"perceptron\")\n",
    "plt.plot(x,Apm,'r')\n",
    "if n==2:\n",
    "    plt.title(\"ionosphere\")    \n",
    "else:\n",
    "    plt.title(\"breast-cancer-wisconsin\")\n",
    "    \n",
    "plt.xlabel(\"nb_epoch\")\n",
    "plt.ylabel(\"cv-accuracy\")\n",
    "\n",
    "plt.legend(loc='lower right')\n",
    "plt.show()"
   ]
  },
  {
   "cell_type": "code",
   "execution_count": null,
   "metadata": {
    "collapsed": false
   },
   "outputs": [],
   "source": [
    "X.shape\n"
   ]
  },
  {
   "cell_type": "code",
   "execution_count": null,
   "metadata": {
    "collapsed": false
   },
   "outputs": [],
   "source": [
    "w = np.random.random((10,1))\n",
    "w.shap"
   ]
  },
  {
   "cell_type": "code",
   "execution_count": null,
   "metadata": {
    "collapsed": true
   },
   "outputs": [],
   "source": []
  },
  {
   "cell_type": "code",
   "execution_count": null,
   "metadata": {
    "collapsed": true
   },
   "outputs": [],
   "source": []
  }
 ],
 "metadata": {
  "kernelspec": {
   "display_name": "Python [Root]",
   "language": "python",
   "name": "Python [Root]"
  },
  "language_info": {
   "codemirror_mode": {
    "name": "ipython",
    "version": 2
   },
   "file_extension": ".py",
   "mimetype": "text/x-python",
   "name": "python",
   "nbconvert_exporter": "python",
   "pygments_lexer": "ipython2",
   "version": "2.7.12"
  }
 },
 "nbformat": 4,
 "nbformat_minor": 0
}
