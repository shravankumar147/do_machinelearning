{
 "cells": [
  {
   "cell_type": "code",
   "execution_count": 1,
   "metadata": {
    "collapsed": true
   },
   "outputs": [],
   "source": [
    "import numpy as np\n",
    "import matplotlib.pyplot as plt\n",
    "import pandas as pd\n",
    "from sklearn.model_selection import KFold\n",
    "%matplotlib inline"
   ]
  },
  {
   "cell_type": "code",
   "execution_count": 2,
   "metadata": {
    "collapsed": false
   },
   "outputs": [],
   "source": [
    "def dataset_12(n):\n",
    "    if n==2:\n",
    "        df = pd.read_csv('datasets/ionosphere.data', header=None)\n",
    "    else:\n",
    "        df = pd.read_csv('datasets/breast-cancer-wisconsin.csv', header=None)\n",
    "        df = df[(df[6]!='?')].astype('float')\n",
    "        del df[0]\n",
    "        df.to_csv('processed_bcw.csv')\n",
    "    \n",
    "    return df,n\n",
    "\n"
   ]
  },
  {
   "cell_type": "code",
   "execution_count": 3,
   "metadata": {
    "collapsed": false
   },
   "outputs": [],
   "source": [
    "df,n = dataset_12(1)"
   ]
  },
  {
   "cell_type": "code",
   "execution_count": 4,
   "metadata": {
    "collapsed": false
   },
   "outputs": [
    {
     "data": {
      "text/html": [
       "<div>\n",
       "<table border=\"1\" class=\"dataframe\">\n",
       "  <thead>\n",
       "    <tr style=\"text-align: right;\">\n",
       "      <th></th>\n",
       "      <th>1</th>\n",
       "      <th>2</th>\n",
       "      <th>3</th>\n",
       "      <th>4</th>\n",
       "      <th>5</th>\n",
       "      <th>6</th>\n",
       "      <th>7</th>\n",
       "      <th>8</th>\n",
       "      <th>9</th>\n",
       "      <th>10</th>\n",
       "    </tr>\n",
       "  </thead>\n",
       "  <tbody>\n",
       "    <tr>\n",
       "      <th>0</th>\n",
       "      <td>5.0</td>\n",
       "      <td>1.0</td>\n",
       "      <td>1.0</td>\n",
       "      <td>1.0</td>\n",
       "      <td>2.0</td>\n",
       "      <td>1.0</td>\n",
       "      <td>3.0</td>\n",
       "      <td>1.0</td>\n",
       "      <td>1.0</td>\n",
       "      <td>2.0</td>\n",
       "    </tr>\n",
       "    <tr>\n",
       "      <th>1</th>\n",
       "      <td>5.0</td>\n",
       "      <td>4.0</td>\n",
       "      <td>4.0</td>\n",
       "      <td>5.0</td>\n",
       "      <td>7.0</td>\n",
       "      <td>10.0</td>\n",
       "      <td>3.0</td>\n",
       "      <td>2.0</td>\n",
       "      <td>1.0</td>\n",
       "      <td>2.0</td>\n",
       "    </tr>\n",
       "    <tr>\n",
       "      <th>2</th>\n",
       "      <td>3.0</td>\n",
       "      <td>1.0</td>\n",
       "      <td>1.0</td>\n",
       "      <td>1.0</td>\n",
       "      <td>2.0</td>\n",
       "      <td>2.0</td>\n",
       "      <td>3.0</td>\n",
       "      <td>1.0</td>\n",
       "      <td>1.0</td>\n",
       "      <td>2.0</td>\n",
       "    </tr>\n",
       "    <tr>\n",
       "      <th>3</th>\n",
       "      <td>6.0</td>\n",
       "      <td>8.0</td>\n",
       "      <td>8.0</td>\n",
       "      <td>1.0</td>\n",
       "      <td>3.0</td>\n",
       "      <td>4.0</td>\n",
       "      <td>3.0</td>\n",
       "      <td>7.0</td>\n",
       "      <td>1.0</td>\n",
       "      <td>2.0</td>\n",
       "    </tr>\n",
       "    <tr>\n",
       "      <th>4</th>\n",
       "      <td>4.0</td>\n",
       "      <td>1.0</td>\n",
       "      <td>1.0</td>\n",
       "      <td>3.0</td>\n",
       "      <td>2.0</td>\n",
       "      <td>1.0</td>\n",
       "      <td>3.0</td>\n",
       "      <td>1.0</td>\n",
       "      <td>1.0</td>\n",
       "      <td>2.0</td>\n",
       "    </tr>\n",
       "  </tbody>\n",
       "</table>\n",
       "</div>"
      ],
      "text/plain": [
       "    1    2    3    4    5     6    7    8    9    10\n",
       "0  5.0  1.0  1.0  1.0  2.0   1.0  3.0  1.0  1.0  2.0\n",
       "1  5.0  4.0  4.0  5.0  7.0  10.0  3.0  2.0  1.0  2.0\n",
       "2  3.0  1.0  1.0  1.0  2.0   2.0  3.0  1.0  1.0  2.0\n",
       "3  6.0  8.0  8.0  1.0  3.0   4.0  3.0  7.0  1.0  2.0\n",
       "4  4.0  1.0  1.0  3.0  2.0   1.0  3.0  1.0  1.0  2.0"
      ]
     },
     "execution_count": 4,
     "metadata": {},
     "output_type": "execute_result"
    }
   ],
   "source": [
    "df.head()"
   ]
  },
  {
   "cell_type": "code",
   "execution_count": 5,
   "metadata": {
    "collapsed": false
   },
   "outputs": [
    {
     "data": {
      "image/png": "[encoded data removed]",
      "text/plain": [
       "<matplotlib.figure.Figure at 0x7f03869e2d10>"
      ]
     },
     "metadata": {},
     "output_type": "display_data"
    }
   ],
   "source": [
    "# plt.plot(df[3],'ro')\n",
    "# plt.plot(df[2],'g*')\n",
    "plt.scatter(df[3],df[2])\n",
    "plt.xlabel('3')\n",
    "plt.ylabel('4')\n",
    "plt.title('2 vs.3')\n",
    "plt.show()"
   ]
  },
  {
   "cell_type": "code",
   "execution_count": 6,
   "metadata": {
    "collapsed": false
   },
   "outputs": [],
   "source": [
    "data_matrix = df.as_matrix()\n",
    "\n",
    "features = data_matrix[:,0:-1]\n",
    "features = np.c_[np.ones(features.shape[0]), features]\n",
    "\n",
    "labels = data_matrix[:,-1]\n",
    "if n ==1:\n",
    "    labels[labels==2] = -1\n",
    "    labels[labels==4] = 1\n",
    "else:\n",
    "    labels[labels=='b'] = -1\n",
    "    labels[labels=='g'] = 1"
   ]
  },
  {
   "cell_type": "code",
   "execution_count": 7,
   "metadata": {
    "collapsed": false
   },
   "outputs": [
    {
     "data": {
      "text/plain": [
       "array([[  1.,   5.,   1., ...,   3.,   1.,   1.],\n",
       "       [  1.,   5.,   4., ...,   3.,   2.,   1.],\n",
       "       [  1.,   3.,   1., ...,   3.,   1.,   1.],\n",
       "       ..., \n",
       "       [  1.,   5.,  10., ...,   8.,  10.,   2.],\n",
       "       [  1.,   4.,   8., ...,  10.,   6.,   1.],\n",
       "       [  1.,   4.,   8., ...,  10.,   4.,   1.]])"
      ]
     },
     "execution_count": 7,
     "metadata": {},
     "output_type": "execute_result"
    }
   ],
   "source": [
    "features"
   ]
  },
  {
   "cell_type": "code",
   "execution_count": 8,
   "metadata": {
    "collapsed": true
   },
   "outputs": [],
   "source": [
    "def percp(train, weights=None, nb_epoch=1):\n",
    "    w = np.zeros(features.shape[1])\n",
    "    X = train\n",
    "    v1 = []\n",
    "    for epoch in range(nb_epoch):\n",
    "        for i in range(len(X)):\n",
    "            y = np.dot(X[i],w)\n",
    "            count = 0\n",
    "            if y<=0:\n",
    "                w = w+X[i]\n",
    "                v1.append(w)\n",
    "    return v1\n",
    "\n",
    "def p_predict(v1, X):\n",
    "    predictions = []\n",
    "    for i in range(0, X.shape[0]):\n",
    "        predictions.append(sign(np.dot(v1[-1], X[i,:])))\n",
    "    return predictions\n",
    "\n",
    "def accuracy(predictions, labels):\n",
    "    acc = np.sum((predictions==labels)).astype('float')/len(predictions)    \n",
    "    return acc\n",
    "def pred_n_acc2(v1,X,labels,predictions=None):\n",
    "    predictions = p_predict(v1,X)\n",
    "    acc = accuracy(predictions,labels)\n",
    "    return predictions,acc"
   ]
  },
  {
   "cell_type": "code",
   "execution_count": 9,
   "metadata": {
    "collapsed": true
   },
   "outputs": [],
   "source": [
    "def vpercp(train, target, weights = None, nb_epoch=1,kfold=10):\n",
    "    w1 = np.zeros(features.shape[1])\n",
    "    X = train\n",
    "    y = target\n",
    "    c1 = 1\n",
    "\n",
    "    v1 = []\n",
    "    p1 = []\n",
    "    \n",
    "    for epoch in range(nb_epoch):\n",
    "\n",
    "        for i in range(len(X)):\n",
    "\n",
    "            u = np.dot(X[i],w1)\n",
    "\n",
    "            g = y[i]*u\n",
    "            if g<=0:\n",
    "\n",
    "                w1 = w1+y[i]*X[i]\n",
    "                v1.append(w1)\n",
    "                p1.append(c1)\n",
    "                c1 = 1\n",
    "\n",
    "            else:\n",
    "                c1 =c1+1\n",
    "                \n",
    "\n",
    "    return v1,p1\n",
    "\n",
    "def sign(x):\n",
    "    if x<0:\n",
    "        return -1\n",
    "    return 1\n",
    "\n",
    "def  vp_predict(v, p, X):\n",
    "    predictions = []\n",
    "    for i in range(0,X.shape[0]):\n",
    "        s  = 0\n",
    "        for k in range(0, len(v)):\n",
    "            s = s + p[k]*sign(np.dot(v[k],X[i,:]))\n",
    "        predictions.append(sign(s))\n",
    "    return predictions\n",
    "\n",
    "def accuracy(predictions, labels):\n",
    "    acc = np.sum((predictions==labels)).astype('float')/len(predictions)    \n",
    "    return acc\n",
    "def pred_n_acc(v,p,X,labels,predictions=None):\n",
    "    predictions = vp_predict(v,p,X)\n",
    "    acc = accuracy(predictions,labels)\n",
    "    return predictions,acc"
   ]
  },
  {
   "cell_type": "code",
   "execution_count": 10,
   "metadata": {
    "collapsed": false
   },
   "outputs": [],
   "source": [
    "v = percp(features,10)"
   ]
  },
  {
   "cell_type": "code",
   "execution_count": 11,
   "metadata": {
    "collapsed": false
   },
   "outputs": [
    {
     "data": {
      "text/plain": [
       "[array([ 1.,  5.,  1.,  1.,  1.,  2.,  1.,  3.,  1.,  1.])]"
      ]
     },
     "execution_count": 11,
     "metadata": {},
     "output_type": "execute_result"
    }
   ],
   "source": [
    "v"
   ]
  },
  {
   "cell_type": "code",
   "execution_count": 25,
   "metadata": {
    "collapsed": false
   },
   "outputs": [
    {
     "name": "stdout",
     "output_type": "stream",
     "text": [
      "1.Fold:1    Epoch:10    acc:0.8986\n",
      "1.Fold:1    Epoch:15    acc:0.9275\n",
      "1.Fold:1    Epoch:20    acc:0.9275\n",
      "1.Fold:1    Epoch:25    acc:0.9275\n",
      "1.Fold:1    Epoch:30    acc:0.9275\n",
      "1.Fold:1    Epoch:35    acc:0.9275\n",
      "1.Fold:1    Epoch:40    acc:0.9275\n",
      "1.Fold:1    Epoch:45    acc:0.9275\n",
      "========    ========    ==========\n",
      "2.Fold:2    Epoch:10    acc:0.942\n",
      "2.Fold:2    Epoch:15    acc:0.913\n",
      "2.Fold:2    Epoch:20    acc:0.9275\n",
      "2.Fold:2    Epoch:25    acc:0.9275\n",
      "2.Fold:2    Epoch:30    acc:0.9275\n",
      "2.Fold:2    Epoch:35    acc:0.9275\n",
      "2.Fold:2    Epoch:40    acc:0.913\n",
      "2.Fold:2    Epoch:45    acc:0.913\n",
      "========    ========    ==========\n",
      "3.Fold:3    Epoch:10    acc:0.9855\n",
      "3.Fold:3    Epoch:15    acc:0.9855\n",
      "3.Fold:3    Epoch:20    acc:0.9855\n",
      "3.Fold:3    Epoch:25    acc:0.9855\n",
      "3.Fold:3    Epoch:30    acc:0.9855\n",
      "3.Fold:3    Epoch:35    acc:0.9855\n",
      "3.Fold:3    Epoch:40    acc:0.9855\n",
      "3.Fold:3    Epoch:45    acc:0.9855\n",
      "========    ========    ==========\n",
      "4.Fold:4    Epoch:10    acc:0.9265\n",
      "4.Fold:4    Epoch:15    acc:0.9265\n",
      "4.Fold:4    Epoch:20    acc:0.9265\n",
      "4.Fold:4    Epoch:25    acc:0.9265\n",
      "4.Fold:4    Epoch:30    acc:0.9265\n",
      "4.Fold:4    Epoch:35    acc:0.9265\n",
      "4.Fold:4    Epoch:40    acc:0.9265\n",
      "4.Fold:4    Epoch:45    acc:0.9265\n",
      "========    ========    ==========\n",
      "5.Fold:5    Epoch:10    acc:0.9118\n",
      "5.Fold:5    Epoch:15    acc:0.8971\n",
      "5.Fold:5    Epoch:20    acc:0.8971\n",
      "5.Fold:5    Epoch:25    acc:0.9118\n",
      "5.Fold:5    Epoch:30    acc:0.9265\n",
      "5.Fold:5    Epoch:35    acc:0.9265\n",
      "5.Fold:5    Epoch:40    acc:0.9265\n",
      "5.Fold:5    Epoch:45    acc:0.9265\n",
      "========    ========    ==========\n",
      "6.Fold:6    Epoch:10    acc:0.9706\n",
      "6.Fold:6    Epoch:15    acc:0.9853\n",
      "6.Fold:6    Epoch:20    acc:0.9853\n",
      "6.Fold:6    Epoch:25    acc:0.9853\n",
      "6.Fold:6    Epoch:30    acc:0.9853\n",
      "6.Fold:6    Epoch:35    acc:0.9853\n",
      "6.Fold:6    Epoch:40    acc:1.0\n",
      "6.Fold:6    Epoch:45    acc:1.0\n",
      "========    ========    ==========\n",
      "7.Fold:7    Epoch:10    acc:0.9412\n",
      "7.Fold:7    Epoch:15    acc:0.9412\n",
      "7.Fold:7    Epoch:20    acc:0.9559\n",
      "7.Fold:7    Epoch:25    acc:0.9706\n",
      "7.Fold:7    Epoch:30    acc:0.9706\n",
      "7.Fold:7    Epoch:35    acc:0.9706\n",
      "7.Fold:7    Epoch:40    acc:0.9706\n",
      "7.Fold:7    Epoch:45    acc:0.9706\n",
      "========    ========    ==========\n",
      "8.Fold:8    Epoch:10    acc:0.9853\n",
      "8.Fold:8    Epoch:15    acc:0.9853\n",
      "8.Fold:8    Epoch:20    acc:0.9706\n",
      "8.Fold:8    Epoch:25    acc:0.9706\n",
      "8.Fold:8    Epoch:30    acc:0.9706\n",
      "8.Fold:8    Epoch:35    acc:0.9706\n",
      "8.Fold:8    Epoch:40    acc:0.9706\n",
      "8.Fold:8    Epoch:45    acc:0.9706\n",
      "========    ========    ==========\n",
      "9.Fold:9    Epoch:10    acc:1.0\n",
      "9.Fold:9    Epoch:15    acc:1.0\n",
      "9.Fold:9    Epoch:20    acc:1.0\n",
      "9.Fold:9    Epoch:25    acc:1.0\n",
      "9.Fold:9    Epoch:30    acc:1.0\n",
      "9.Fold:9    Epoch:35    acc:1.0\n",
      "9.Fold:9    Epoch:40    acc:1.0\n",
      "9.Fold:9    Epoch:45    acc:1.0\n",
      "========    ========    ==========\n",
      "10.Fold:10    Epoch:10    acc:1.0\n",
      "10.Fold:10    Epoch:15    acc:1.0\n",
      "10.Fold:10    Epoch:20    acc:1.0\n",
      "10.Fold:10    Epoch:25    acc:1.0\n",
      "10.Fold:10    Epoch:30    acc:1.0\n",
      "10.Fold:10    Epoch:35    acc:1.0\n",
      "10.Fold:10    Epoch:40    acc:1.0\n",
      "10.Fold:10    Epoch:45    acc:1.0\n",
      "========    ========    ==========\n"
     ]
    }
   ],
   "source": [
    "X = features\n",
    "y = labels\n",
    "kf = KFold(n_splits=10)\n",
    "fold = 0\n",
    "n = 1\n",
    "Av = []\n",
    "for train, test in kf.split(X):\n",
    "    X_train, X_test, y_train, y_test = X[train], X[test], y[train], y[test]\n",
    "    for epoch in xrange(10,50,5):\n",
    "        v1,p1 = vpercp(X_train, y_train, nb_epoch=epoch)\n",
    "        pred,acc = pred_n_acc(v1,p1,X_test,y_test)\n",
    "        print(\"{}.Fold:{}    Epoch:{}    acc:{}\".format(n,fold+1,epoch,round(acc,4)))\n",
    "    Av.append(acc)\n",
    "    print(\"========    ========    ==========\")\n",
    "    \n",
    "    fold+=1\n",
    "    n+=1\n",
    "    \n",
    "    "
   ]
  },
  {
   "cell_type": "code",
   "execution_count": 26,
   "metadata": {
    "collapsed": false
   },
   "outputs": [
    {
     "name": "stdout",
     "output_type": "stream",
     "text": [
      "1.Fold:1    Epoch:10    acc:0.4928\n",
      "1.Fold:1    Epoch:15    acc:0.4928\n",
      "1.Fold:1    Epoch:20    acc:0.4928\n",
      "1.Fold:1    Epoch:25    acc:0.4928\n",
      "1.Fold:1    Epoch:30    acc:0.4928\n",
      "1.Fold:1    Epoch:35    acc:0.4928\n",
      "1.Fold:1    Epoch:40    acc:0.4928\n",
      "1.Fold:1    Epoch:45    acc:0.4928\n",
      "========    ========    ==========\n",
      "2.Fold:2    Epoch:10    acc:0.3913\n",
      "2.Fold:2    Epoch:15    acc:0.3913\n",
      "2.Fold:2    Epoch:20    acc:0.3913\n",
      "2.Fold:2    Epoch:25    acc:0.3913\n",
      "2.Fold:2    Epoch:30    acc:0.3913\n",
      "2.Fold:2    Epoch:35    acc:0.3913\n",
      "2.Fold:2    Epoch:40    acc:0.3913\n",
      "2.Fold:2    Epoch:45    acc:0.3913\n",
      "========    ========    ==========\n",
      "3.Fold:3    Epoch:10    acc:0.4058\n",
      "3.Fold:3    Epoch:15    acc:0.4058\n",
      "3.Fold:3    Epoch:20    acc:0.4058\n",
      "3.Fold:3    Epoch:25    acc:0.4058\n",
      "3.Fold:3    Epoch:30    acc:0.4058\n",
      "3.Fold:3    Epoch:35    acc:0.4058\n",
      "3.Fold:3    Epoch:40    acc:0.4058\n",
      "3.Fold:3    Epoch:45    acc:0.4058\n",
      "========    ========    ==========\n",
      "4.Fold:4    Epoch:10    acc:0.5588\n",
      "4.Fold:4    Epoch:15    acc:0.5588\n",
      "4.Fold:4    Epoch:20    acc:0.5588\n",
      "4.Fold:4    Epoch:25    acc:0.5588\n",
      "4.Fold:4    Epoch:30    acc:0.5588\n",
      "4.Fold:4    Epoch:35    acc:0.5588\n",
      "4.Fold:4    Epoch:40    acc:0.5588\n",
      "4.Fold:4    Epoch:45    acc:0.5588\n",
      "========    ========    ==========\n",
      "5.Fold:5    Epoch:10    acc:0.4706\n",
      "5.Fold:5    Epoch:15    acc:0.4706\n",
      "5.Fold:5    Epoch:20    acc:0.4706\n",
      "5.Fold:5    Epoch:25    acc:0.4706\n",
      "5.Fold:5    Epoch:30    acc:0.4706\n",
      "5.Fold:5    Epoch:35    acc:0.4706\n",
      "5.Fold:5    Epoch:40    acc:0.4706\n",
      "5.Fold:5    Epoch:45    acc:0.4706\n",
      "========    ========    ==========\n",
      "6.Fold:6    Epoch:10    acc:0.2353\n",
      "6.Fold:6    Epoch:15    acc:0.2353\n",
      "6.Fold:6    Epoch:20    acc:0.2353\n",
      "6.Fold:6    Epoch:25    acc:0.2353\n",
      "6.Fold:6    Epoch:30    acc:0.2353\n",
      "6.Fold:6    Epoch:35    acc:0.2353\n",
      "6.Fold:6    Epoch:40    acc:0.2353\n",
      "6.Fold:6    Epoch:45    acc:0.2353\n",
      "========    ========    ==========\n",
      "7.Fold:7    Epoch:10    acc:0.2941\n",
      "7.Fold:7    Epoch:15    acc:0.2941\n",
      "7.Fold:7    Epoch:20    acc:0.2941\n",
      "7.Fold:7    Epoch:25    acc:0.2941\n",
      "7.Fold:7    Epoch:30    acc:0.2941\n",
      "7.Fold:7    Epoch:35    acc:0.2941\n",
      "7.Fold:7    Epoch:40    acc:0.2941\n",
      "7.Fold:7    Epoch:45    acc:0.2941\n",
      "========    ========    ==========\n",
      "8.Fold:8    Epoch:10    acc:0.1324\n",
      "8.Fold:8    Epoch:15    acc:0.1324\n",
      "8.Fold:8    Epoch:20    acc:0.1324\n",
      "8.Fold:8    Epoch:25    acc:0.1324\n",
      "8.Fold:8    Epoch:30    acc:0.1324\n",
      "8.Fold:8    Epoch:35    acc:0.1324\n",
      "8.Fold:8    Epoch:40    acc:0.1324\n",
      "8.Fold:8    Epoch:45    acc:0.1324\n",
      "========    ========    ==========\n",
      "9.Fold:9    Epoch:10    acc:0.3235\n",
      "9.Fold:9    Epoch:15    acc:0.3235\n",
      "9.Fold:9    Epoch:20    acc:0.3235\n",
      "9.Fold:9    Epoch:25    acc:0.3235\n",
      "9.Fold:9    Epoch:30    acc:0.3235\n",
      "9.Fold:9    Epoch:35    acc:0.3235\n",
      "9.Fold:9    Epoch:40    acc:0.3235\n",
      "9.Fold:9    Epoch:45    acc:0.3235\n",
      "========    ========    ==========\n",
      "10.Fold:10    Epoch:10    acc:0.1912\n",
      "10.Fold:10    Epoch:15    acc:0.1912\n",
      "10.Fold:10    Epoch:20    acc:0.1912\n",
      "10.Fold:10    Epoch:25    acc:0.1912\n",
      "10.Fold:10    Epoch:30    acc:0.1912\n",
      "10.Fold:10    Epoch:35    acc:0.1912\n",
      "10.Fold:10    Epoch:40    acc:0.1912\n",
      "10.Fold:10    Epoch:45    acc:0.1912\n",
      "========    ========    ==========\n"
     ]
    }
   ],
   "source": [
    "X = features\n",
    "y = labels\n",
    "kf = KFold(n_splits=10)\n",
    "fold = 0\n",
    "n = 1\n",
    "Ap = []\n",
    "for train, test in kf.split(X):\n",
    "    X_train, X_test, y_train, y_test = X[train], X[test], y[train], y[test]\n",
    "    for epoch in xrange(10,50,5):\n",
    "        v1 = percp(X_train, nb_epoch=epoc)\n",
    "        pred,acc = pred_n_acc2(v1,X_test,y_test)\n",
    "        print(\"{}.Fold:{}    Epoch:{}    acc:{}\".format(n,fold+1,epoch,round(acc,4)))\n",
    "    Ap.append(acc)\n",
    "    print(\"========    ========    ==========\")\n",
    "    \n",
    "    fold+=1\n",
    "    n+=1"
   ]
  },
  {
   "cell_type": "code",
   "execution_count": 19,
   "metadata": {
    "collapsed": false
   },
   "outputs": [
    {
     "data": {
      "text/plain": [
       "[0.92753623188405798,\n",
       " 0.91304347826086951,\n",
       " 0.98550724637681164,\n",
       " 0.92647058823529416,\n",
       " 0.92647058823529416,\n",
       " 1.0,\n",
       " 0.97058823529411764,\n",
       " 0.97058823529411764,\n",
       " 1.0,\n",
       " 1.0]"
      ]
     },
     "execution_count": 19,
     "metadata": {},
     "output_type": "execute_result"
    }
   ],
   "source": [
    "Av"
   ]
  },
  {
   "cell_type": "code",
   "execution_count": 20,
   "metadata": {
    "collapsed": false
   },
   "outputs": [
    {
     "data": {
      "text/plain": [
       "[0.49275362318840582,\n",
       " 0.39130434782608697,\n",
       " 0.40579710144927539,\n",
       " 0.55882352941176472,\n",
       " 0.47058823529411764,\n",
       " 0.23529411764705882,\n",
       " 0.29411764705882354,\n",
       " 0.13235294117647059,\n",
       " 0.3235294117647059,\n",
       " 0.19117647058823528]"
      ]
     },
     "execution_count": 20,
     "metadata": {},
     "output_type": "execute_result"
    }
   ],
   "source": [
    "Ap"
   ]
  },
  {
   "cell_type": "code",
   "execution_count": 21,
   "metadata": {
    "collapsed": false
   },
   "outputs": [
    {
     "data": {
      "image/png": "[encoded data removed]",
      "text/plain": [
       "<matplotlib.figure.Figure at 0x7f03869fbed0>"
      ]
     },
     "metadata": {},
     "output_type": "display_data"
    }
   ],
   "source": [
    "x = np.linspace(0,10,10)\n",
    "plt.plot(x,Av,'g*',label = \"voted-perceptron\")\n",
    "plt.plot(x,Av)\n",
    "plt.plot(x,Ap,'ro', label = \"perceptron\")\n",
    "plt.plot(x,Ap)\n",
    "if n==2:\n",
    "    plt.title(\"ionosphere\")    \n",
    "else:\n",
    "    plt.title(\"breast-cancer-wisconsin\")\n",
    "    \n",
    "plt.xlabel(\"n_fold\")\n",
    "plt.ylabel(\"accuracy\")\n",
    "plt.legend()\n",
    "plt.show()"
   ]
  },
  {
   "cell_type": "code",
   "execution_count": null,
   "metadata": {
    "collapsed": true
   },
   "outputs": [],
   "source": []
  },
  {
   "cell_type": "code",
   "execution_count": null,
   "metadata": {
    "collapsed": true
   },
   "outputs": [],
   "source": []
  }
 ],
 "metadata": {
  "kernelspec": {
   "display_name": "Python [Root]",
   "language": "python",
   "name": "Python [Root]"
  },
  "language_info": {
   "codemirror_mode": {
    "name": "ipython",
    "version": 2
   },
   "file_extension": ".py",
   "mimetype": "text/x-python",
   "name": "python",
   "nbconvert_exporter": "python",
   "pygments_lexer": "ipython2",
   "version": "2.7.12"
  }
 },
 "nbformat": 4,
 "nbformat_minor": 0
}
