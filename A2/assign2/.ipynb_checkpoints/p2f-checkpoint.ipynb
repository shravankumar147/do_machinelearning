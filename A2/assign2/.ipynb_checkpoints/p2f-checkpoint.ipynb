{
 "cells": [
  {
   "cell_type": "code",
   "execution_count": 17,
   "metadata": {
    "collapsed": true
   },
   "outputs": [],
   "source": [
    "import numpy as np\n",
    "import matplotlib.pyplot as plt\n",
    "import pandas as pd\n",
    "from sklearn.model_selection import KFold\n"
   ]
  },
  {
   "cell_type": "code",
   "execution_count": 154,
   "metadata": {
    "collapsed": true
   },
   "outputs": [],
   "source": [
    "def percp(train, weights=None, nb_epoch=1):\n",
    "    w = np.zeros(features.shape[1])\n",
    "    X = train\n",
    "    v1 = []\n",
    "    for epoch in range(nb_epoch):\n",
    "        for i in range(len(X)):\n",
    "            y = np.dot(X[i],w)\n",
    "            count = 0\n",
    "            if y<=0:\n",
    "                w = w+X[i]\n",
    "                v1.append(w)\n",
    "    return v1\n",
    "\n",
    "def p_predict(v1, X):\n",
    "    predictions = []\n",
    "    for i in range(0, X.shape[0]):\n",
    "        predictions.append(sign(np.dot(v1[-1], X[i,:])))\n",
    "    return predictions\n",
    "\n",
    "def accuracy(predictions, labels):\n",
    "    acc = np.sum((predictions==labels)).astype('float')/len(predictions)    \n",
    "    return acc\n",
    "def pred_n_acc2(v1,X,labels,predictions=None):\n",
    "    predictions = p_predict(v1,X)\n",
    "    acc = accuracy(predictions,labels)\n",
    "    return predictions,acc"
   ]
  },
  {
   "cell_type": "code",
   "execution_count": 166,
   "metadata": {
    "collapsed": true
   },
   "outputs": [],
   "source": [
    "def vpercp(train, target, weights = None, nb_epoch=1,kfold=10):\n",
    "    w1 = np.zeros(features.shape[1])\n",
    "    X = train\n",
    "    y = target\n",
    "    c1 = 1\n",
    "\n",
    "    v1 = []\n",
    "    p1 = []\n",
    "    \n",
    "    for epoch in range(nb_epoch):\n",
    "\n",
    "        for i in range(len(X)):\n",
    "\n",
    "            u = np.dot(X[i],w1)\n",
    "\n",
    "            g = y[i]*u\n",
    "            if g<=0:\n",
    "\n",
    "                w1 = w1+y[i]*X[i]\n",
    "                v1.append(w1)\n",
    "                p1.append(c1)\n",
    "                c1 = 1\n",
    "\n",
    "            else:\n",
    "                c1 =c1+1\n",
    "                \n",
    "\n",
    "    return v1,p1            \n"
   ]
  },
  {
   "cell_type": "code",
   "execution_count": 156,
   "metadata": {
    "collapsed": false
   },
   "outputs": [],
   "source": [
    "def sign(x):\n",
    "    if x<0:\n",
    "        return -1\n",
    "    return 1\n",
    "\n",
    "def  vp_prediction(v, p, X):\n",
    "    predictions = []\n",
    "    for i in range(0,X.shape[0]):\n",
    "        s  = 0\n",
    "        for k in range(0, len(v)):\n",
    "            s = s + p[k]*sign(np.dot(v[k],X[i,:]))\n",
    "        predictions.append(sign(s))\n",
    "    return predictions\n",
    "\n",
    "def accuracy(predictions, labels):\n",
    "    acc = np.sum((predictions==labels)).astype('float')/len(predictions)    \n",
    "    return acc\n",
    "def pred_n_acc(v,p,X,labels,predictions=None):\n",
    "    predictions = vp_predict(v,p,X)\n",
    "    acc = accuracy(predictions,labels)\n",
    "    return predictions,acc"
   ]
  },
  {
   "cell_type": "code",
   "execution_count": 157,
   "metadata": {
    "collapsed": true
   },
   "outputs": [],
   "source": [
    "df = pd.read_csv('datasets/breast-cancer-wisconsin.csv', header=None)\n",
    "data = df[(df[6]!='?')].astype('float')\n",
    "del data[0]\n",
    "data.to_csv('processed_bcw.csv')\n",
    "\n",
    "data_matrix = data.as_matrix()\n",
    "\n",
    "features = data_matrix[:,0:-1]\n",
    "features = np.c_[np.ones(features.shape[0]), features]\n",
    "\n",
    "labels = data_matrix[:,-1]\n",
    "labels[labels==2] = -1\n",
    "labels[labels==4] = 1"
   ]
  },
  {
   "cell_type": "code",
   "execution_count": 158,
   "metadata": {
    "collapsed": false
   },
   "outputs": [],
   "source": [
    "w1 = np.zeros(features.shape[1])\n",
    "v1,p1 = vpercp(features, labels, w1, nb_epoch=1)"
   ]
  },
  {
   "cell_type": "code",
   "execution_count": 149,
   "metadata": {
    "collapsed": false
   },
   "outputs": [
    {
     "name": "stdout",
     "output_type": "stream",
     "text": [
      "1.Fold:1    Epoch:10    acc:0.8986\n",
      "1.Fold:1    Epoch:15    acc:0.8986\n",
      "1.Fold:1    Epoch:20    acc:0.8986\n",
      "1.Fold:1    Epoch:25    acc:0.8986\n",
      "1.Fold:1    Epoch:30    acc:0.8986\n",
      "1.Fold:1    Epoch:35    acc:0.8986\n",
      "1.Fold:1    Epoch:40    acc:0.8986\n",
      "1.Fold:1    Epoch:45    acc:0.8986\n",
      "========    ========    ==========\n",
      "2.Fold:2    Epoch:10    acc:0.942\n",
      "2.Fold:2    Epoch:15    acc:0.942\n",
      "2.Fold:2    Epoch:20    acc:0.942\n",
      "2.Fold:2    Epoch:25    acc:0.942\n",
      "2.Fold:2    Epoch:30    acc:0.942\n",
      "2.Fold:2    Epoch:35    acc:0.942\n",
      "2.Fold:2    Epoch:40    acc:0.942\n",
      "2.Fold:2    Epoch:45    acc:0.942\n",
      "========    ========    ==========\n",
      "3.Fold:3    Epoch:10    acc:0.9855\n",
      "3.Fold:3    Epoch:15    acc:0.9855\n",
      "3.Fold:3    Epoch:20    acc:0.9855\n",
      "3.Fold:3    Epoch:25    acc:0.9855\n",
      "3.Fold:3    Epoch:30    acc:0.9855\n",
      "3.Fold:3    Epoch:35    acc:0.9855\n",
      "3.Fold:3    Epoch:40    acc:0.9855\n",
      "3.Fold:3    Epoch:45    acc:0.9855\n",
      "========    ========    ==========\n",
      "4.Fold:4    Epoch:10    acc:0.9265\n",
      "4.Fold:4    Epoch:15    acc:0.9265\n",
      "4.Fold:4    Epoch:20    acc:0.9265\n",
      "4.Fold:4    Epoch:25    acc:0.9265\n",
      "4.Fold:4    Epoch:30    acc:0.9265\n",
      "4.Fold:4    Epoch:35    acc:0.9265\n",
      "4.Fold:4    Epoch:40    acc:0.9265\n",
      "4.Fold:4    Epoch:45    acc:0.9265\n",
      "========    ========    ==========\n",
      "5.Fold:5    Epoch:10    acc:0.9118\n",
      "5.Fold:5    Epoch:15    acc:0.9118\n",
      "5.Fold:5    Epoch:20    acc:0.9118\n",
      "5.Fold:5    Epoch:25    acc:0.9118\n",
      "5.Fold:5    Epoch:30    acc:0.9118\n",
      "5.Fold:5    Epoch:35    acc:0.9118\n",
      "5.Fold:5    Epoch:40    acc:0.9118\n",
      "5.Fold:5    Epoch:45    acc:0.9118\n",
      "========    ========    ==========\n",
      "6.Fold:6    Epoch:10    acc:0.9706\n",
      "6.Fold:6    Epoch:15    acc:0.9706\n",
      "6.Fold:6    Epoch:20    acc:0.9706\n",
      "6.Fold:6    Epoch:25    acc:0.9706\n",
      "6.Fold:6    Epoch:30    acc:0.9706\n",
      "6.Fold:6    Epoch:35    acc:0.9706\n",
      "6.Fold:6    Epoch:40    acc:0.9706\n",
      "6.Fold:6    Epoch:45    acc:0.9706\n",
      "========    ========    ==========\n",
      "7.Fold:7    Epoch:10    acc:0.9412\n",
      "7.Fold:7    Epoch:15    acc:0.9412\n",
      "7.Fold:7    Epoch:20    acc:0.9412\n",
      "7.Fold:7    Epoch:25    acc:0.9412\n",
      "7.Fold:7    Epoch:30    acc:0.9412\n",
      "7.Fold:7    Epoch:35    acc:0.9412\n",
      "7.Fold:7    Epoch:40    acc:0.9412\n",
      "7.Fold:7    Epoch:45    acc:0.9412\n",
      "========    ========    ==========\n",
      "8.Fold:8    Epoch:10    acc:0.9853\n",
      "8.Fold:8    Epoch:15    acc:0.9853\n",
      "8.Fold:8    Epoch:20    acc:0.9853\n",
      "8.Fold:8    Epoch:25    acc:0.9853\n",
      "8.Fold:8    Epoch:30    acc:0.9853\n",
      "8.Fold:8    Epoch:35    acc:0.9853\n",
      "8.Fold:8    Epoch:40    acc:0.9853\n",
      "8.Fold:8    Epoch:45    acc:0.9853\n",
      "========    ========    ==========\n",
      "9.Fold:9    Epoch:10    acc:1.0\n",
      "9.Fold:9    Epoch:15    acc:1.0\n",
      "9.Fold:9    Epoch:20    acc:1.0\n",
      "9.Fold:9    Epoch:25    acc:1.0\n",
      "9.Fold:9    Epoch:30    acc:1.0\n",
      "9.Fold:9    Epoch:35    acc:1.0\n",
      "9.Fold:9    Epoch:40    acc:1.0\n",
      "9.Fold:9    Epoch:45    acc:1.0\n",
      "========    ========    ==========\n",
      "10.Fold:10    Epoch:10    acc:1.0\n",
      "10.Fold:10    Epoch:15    acc:1.0\n",
      "10.Fold:10    Epoch:20    acc:1.0\n",
      "10.Fold:10    Epoch:25    acc:1.0\n",
      "10.Fold:10    Epoch:30    acc:1.0\n",
      "10.Fold:10    Epoch:35    acc:1.0\n",
      "10.Fold:10    Epoch:40    acc:1.0\n",
      "10.Fold:10    Epoch:45    acc:1.0\n",
      "========    ========    ==========\n"
     ]
    }
   ],
   "source": [
    "X = features\n",
    "y = labels\n",
    "kf = KFold(n_splits=10)\n",
    "fold = 0\n",
    "n = 1\n",
    "A = []\n",
    "for train, test in kf.split(X):\n",
    "    X_train, X_test, y_train, y_test = X[train], X[test], y[train], y[test]\n",
    "    for iter in xrange(10,50,5):\n",
    "        v1,p1 = vpercp(X_train, y_train, nb_epoch=10)\n",
    "        pred,acc = pred_n_acc(v1,p1,X_test,y_test)\n",
    "        print(\"{}.Fold:{}    Epoch:{}    acc:{}\".format(n,fold+1,iter,round(acc,4)))\n",
    "    A.append(acc)\n",
    "    print(\"========    ========    ==========\")\n",
    "    \n",
    "    fold+=1\n",
    "    n+=1\n",
    "    \n",
    "    "
   ]
  },
  {
   "cell_type": "code",
   "execution_count": 150,
   "metadata": {
    "collapsed": false
   },
   "outputs": [
    {
     "data": {
      "text/plain": [
       "[0.89855072463768115,\n",
       " 0.94202898550724634,\n",
       " 0.98550724637681164,\n",
       " 0.92647058823529416,\n",
       " 0.91176470588235292,\n",
       " 0.97058823529411764,\n",
       " 0.94117647058823528,\n",
       " 0.98529411764705888,\n",
       " 1.0,\n",
       " 1.0]"
      ]
     },
     "execution_count": 150,
     "metadata": {},
     "output_type": "execute_result"
    }
   ],
   "source": [
    "A1=A\n",
    "# A1 = [A1[i] for i in range(0,80,8)]\n",
    "A1"
   ]
  },
  {
   "cell_type": "code",
   "execution_count": 98,
   "metadata": {
    "collapsed": false
   },
   "outputs": [
    {
     "data": {
      "text/plain": [
       "10"
      ]
     },
     "execution_count": 98,
     "metadata": {},
     "output_type": "execute_result"
    }
   ],
   "source": [
    "x = np.linspace(0,10,10)\n",
    "plt.plot(x,A1)\n",
    "plt.show()\n",
    "len(A)"
   ]
  },
  {
   "cell_type": "code",
   "execution_count": 131,
   "metadata": {
    "collapsed": false
   },
   "outputs": [],
   "source": []
  },
  {
   "cell_type": "code",
   "execution_count": null,
   "metadata": {
    "collapsed": true
   },
   "outputs": [],
   "source": []
  },
  {
   "cell_type": "code",
   "execution_count": 169,
   "metadata": {
    "collapsed": false
   },
   "outputs": [],
   "source": [
    "v2 = percp(X)\n"
   ]
  },
  {
   "cell_type": "code",
   "execution_count": 170,
   "metadata": {
    "collapsed": false
   },
   "outputs": [
    {
     "data": {
      "text/plain": [
       "[array([ 1.,  5.,  1.,  1.,  1.,  2.,  1.,  3.,  1.,  1.])]"
      ]
     },
     "execution_count": 170,
     "metadata": {},
     "output_type": "execute_result"
    }
   ],
   "source": [
    "v2"
   ]
  },
  {
   "cell_type": "code",
   "execution_count": 161,
   "metadata": {
    "collapsed": false
   },
   "outputs": [
    {
     "name": "stdout",
     "output_type": "stream",
     "text": [
      "1.Fold:1    Epoch:10    acc:0.4928\n",
      "1.Fold:1    Epoch:15    acc:0.4928\n",
      "1.Fold:1    Epoch:20    acc:0.4928\n",
      "1.Fold:1    Epoch:25    acc:0.4928\n",
      "1.Fold:1    Epoch:30    acc:0.4928\n",
      "1.Fold:1    Epoch:35    acc:0.4928\n",
      "1.Fold:1    Epoch:40    acc:0.4928\n",
      "1.Fold:1    Epoch:45    acc:0.4928\n",
      "========    ========    ==========\n",
      "2.Fold:2    Epoch:10    acc:0.3913\n",
      "2.Fold:2    Epoch:15    acc:0.3913\n",
      "2.Fold:2    Epoch:20    acc:0.3913\n",
      "2.Fold:2    Epoch:25    acc:0.3913\n",
      "2.Fold:2    Epoch:30    acc:0.3913\n",
      "2.Fold:2    Epoch:35    acc:0.3913\n",
      "2.Fold:2    Epoch:40    acc:0.3913\n",
      "2.Fold:2    Epoch:45    acc:0.3913\n",
      "========    ========    ==========\n",
      "3.Fold:3    Epoch:10    acc:0.4058\n",
      "3.Fold:3    Epoch:15    acc:0.4058\n",
      "3.Fold:3    Epoch:20    acc:0.4058\n",
      "3.Fold:3    Epoch:25    acc:0.4058\n",
      "3.Fold:3    Epoch:30    acc:0.4058\n",
      "3.Fold:3    Epoch:35    acc:0.4058\n",
      "3.Fold:3    Epoch:40    acc:0.4058\n",
      "3.Fold:3    Epoch:45    acc:0.4058\n",
      "========    ========    ==========\n",
      "4.Fold:4    Epoch:10    acc:0.5588\n",
      "4.Fold:4    Epoch:15    acc:0.5588\n",
      "4.Fold:4    Epoch:20    acc:0.5588\n",
      "4.Fold:4    Epoch:25    acc:0.5588\n",
      "4.Fold:4    Epoch:30    acc:0.5588\n",
      "4.Fold:4    Epoch:35    acc:0.5588\n",
      "4.Fold:4    Epoch:40    acc:0.5588\n",
      "4.Fold:4    Epoch:45    acc:0.5588\n",
      "========    ========    ==========\n",
      "5.Fold:5    Epoch:10    acc:0.4706\n",
      "5.Fold:5    Epoch:15    acc:0.4706\n",
      "5.Fold:5    Epoch:20    acc:0.4706\n",
      "5.Fold:5    Epoch:25    acc:0.4706\n",
      "5.Fold:5    Epoch:30    acc:0.4706\n",
      "5.Fold:5    Epoch:35    acc:0.4706\n",
      "5.Fold:5    Epoch:40    acc:0.4706\n",
      "5.Fold:5    Epoch:45    acc:0.4706\n",
      "========    ========    ==========\n",
      "6.Fold:6    Epoch:10    acc:0.2353\n",
      "6.Fold:6    Epoch:15    acc:0.2353\n",
      "6.Fold:6    Epoch:20    acc:0.2353\n",
      "6.Fold:6    Epoch:25    acc:0.2353\n",
      "6.Fold:6    Epoch:30    acc:0.2353\n",
      "6.Fold:6    Epoch:35    acc:0.2353\n",
      "6.Fold:6    Epoch:40    acc:0.2353\n",
      "6.Fold:6    Epoch:45    acc:0.2353\n",
      "========    ========    ==========\n",
      "7.Fold:7    Epoch:10    acc:0.2941\n",
      "7.Fold:7    Epoch:15    acc:0.2941\n",
      "7.Fold:7    Epoch:20    acc:0.2941\n",
      "7.Fold:7    Epoch:25    acc:0.2941\n",
      "7.Fold:7    Epoch:30    acc:0.2941\n",
      "7.Fold:7    Epoch:35    acc:0.2941\n",
      "7.Fold:7    Epoch:40    acc:0.2941\n",
      "7.Fold:7    Epoch:45    acc:0.2941\n",
      "========    ========    ==========\n",
      "8.Fold:8    Epoch:10    acc:0.1324\n",
      "8.Fold:8    Epoch:15    acc:0.1324\n",
      "8.Fold:8    Epoch:20    acc:0.1324\n",
      "8.Fold:8    Epoch:25    acc:0.1324\n",
      "8.Fold:8    Epoch:30    acc:0.1324\n",
      "8.Fold:8    Epoch:35    acc:0.1324\n",
      "8.Fold:8    Epoch:40    acc:0.1324\n",
      "8.Fold:8    Epoch:45    acc:0.1324\n",
      "========    ========    ==========\n",
      "9.Fold:9    Epoch:10    acc:0.3235\n",
      "9.Fold:9    Epoch:15    acc:0.3235\n",
      "9.Fold:9    Epoch:20    acc:0.3235\n",
      "9.Fold:9    Epoch:25    acc:0.3235\n",
      "9.Fold:9    Epoch:30    acc:0.3235\n",
      "9.Fold:9    Epoch:35    acc:0.3235\n",
      "9.Fold:9    Epoch:40    acc:0.3235\n",
      "9.Fold:9    Epoch:45    acc:0.3235\n",
      "========    ========    ==========\n",
      "10.Fold:10    Epoch:10    acc:0.1912\n",
      "10.Fold:10    Epoch:15    acc:0.1912\n",
      "10.Fold:10    Epoch:20    acc:0.1912\n",
      "10.Fold:10    Epoch:25    acc:0.1912\n",
      "10.Fold:10    Epoch:30    acc:0.1912\n",
      "10.Fold:10    Epoch:35    acc:0.1912\n",
      "10.Fold:10    Epoch:40    acc:0.1912\n",
      "10.Fold:10    Epoch:45    acc:0.1912\n",
      "========    ========    ==========\n"
     ]
    }
   ],
   "source": [
    "X = features\n",
    "y = labels\n",
    "kf = KFold(n_splits=10)\n",
    "fold = 0\n",
    "n = 1\n",
    "A = []\n",
    "for train, test in kf.split(X):\n",
    "    X_train, X_test, y_train, y_test = X[train], X[test], y[train], y[test]\n",
    "    for iter in xrange(10,50,5):\n",
    "        v1 = percp(X_train, y_train, nb_epoch=10)\n",
    "        pred,acc = pred_n_acc2(v1,X_test,y_test)\n",
    "        print(\"{}.Fold:{}    Epoch:{}    acc:{}\".format(n,fold+1,iter,round(acc,4)))\n",
    "    A.append(acc)\n",
    "    print(\"========    ========    ==========\")\n",
    "    \n",
    "    fold+=1\n",
    "    n+=1"
   ]
  },
  {
   "cell_type": "code",
   "execution_count": 162,
   "metadata": {
    "collapsed": false
   },
   "outputs": [
    {
     "data": {
      "text/plain": [
       "[0.49275362318840582,\n",
       " 0.39130434782608697,\n",
       " 0.40579710144927539,\n",
       " 0.55882352941176472,\n",
       " 0.47058823529411764,\n",
       " 0.23529411764705882,\n",
       " 0.29411764705882354,\n",
       " 0.13235294117647059,\n",
       " 0.3235294117647059,\n",
       " 0.19117647058823528]"
      ]
     },
     "execution_count": 162,
     "metadata": {},
     "output_type": "execute_result"
    }
   ],
   "source": [
    "A"
   ]
  },
  {
   "cell_type": "code",
   "execution_count": 165,
   "metadata": {
    "collapsed": true
   },
   "outputs": [],
   "source": [
    "x = np.linspace(0,10,10)\n",
    "plt.plot(x,A)\n",
    "plt.plot(x,A1)\n",
    "plt.show()"
   ]
  },
  {
   "cell_type": "code",
   "execution_count": 171,
   "metadata": {
    "collapsed": true
   },
   "outputs": [],
   "source": [
    "def percp(train, weights=None, nb_epoch=1):\n",
    "    X = train\n",
    "    w = np.zeros(X.shape[1])\n",
    "    for epoc in range(nb_epoch):\n",
    "        print(\"*************************\")\n",
    "        print(\"Epoch {}\".format(epoc))\n",
    "        print(\"*************************\")\n",
    "        print(\" \")\n",
    "        print(\"current weights {}\".format(w))\n",
    "        print(\" \")\n",
    "        for i in range(len(X)):\n",
    "            print(\"iteration{} on X{}\".format(i,i))\n",
    "            y = np.dot(X[i],w)\n",
    "            count = 0\n",
    "            if y<=0:\n",
    "                print(\"xxxxxxx\")\n",
    "                print(\"Misclassified sample x{}\".format(i))\n",
    "                print(\"-------\")\n",
    "                w = w+X[i]\n",
    "                print(\"-------\")\n",
    "                print(\"updated weight w = {}\".format(w))\n",
    "                print(\":) :) :) \")\n",
    "#                 count +=1\n",
    "#                 print(\"inside {}\".format(count))\n",
    "#             print(\"outside {}\".format(count))\n",
    "        print(\" \")           \n",
    "        print(\"Finally the best weight vector is {} at iteration {}\".format(w,epoc))\n",
    "        print(\" \")\n",
    "    print(w)\n",
    "    return w"
   ]
  },
  {
   "cell_type": "code",
   "execution_count": 172,
   "metadata": {
    "collapsed": false
   },
   "outputs": [
    {
     "ename": "TypeError",
     "evalue": "percp() takes at least 2 arguments (1 given)",
     "output_type": "error",
     "traceback": [
      "\u001b[1;31m---------------------------------------------------------------------------\u001b[0m",
      "\u001b[1;31mTypeError\u001b[0m                                 Traceback (most recent call last)",
      "\u001b[1;32m<ipython-input-172-f061cd980e9a>\u001b[0m in \u001b[0;36m<module>\u001b[1;34m()\u001b[0m\n\u001b[1;32m----> 1\u001b[1;33m \u001b[0mpercp\u001b[0m\u001b[1;33m(\u001b[0m\u001b[0mX\u001b[0m\u001b[1;33m)\u001b[0m\u001b[1;33m\u001b[0m\u001b[0m\n\u001b[0m",
      "\u001b[1;31mTypeError\u001b[0m: percp() takes at least 2 arguments (1 given)"
     ]
    }
   ],
   "source": [
    "percp(X)"
   ]
  },
  {
   "cell_type": "code",
   "execution_count": null,
   "metadata": {
    "collapsed": true
   },
   "outputs": [],
   "source": []
  }
 ],
 "metadata": {
  "kernelspec": {
   "display_name": "Python [Root]",
   "language": "python",
   "name": "Python [Root]"
  },
  "language_info": {
   "codemirror_mode": {
    "name": "ipython",
    "version": 2
   },
   "file_extension": ".py",
   "mimetype": "text/x-python",
   "name": "python",
   "nbconvert_exporter": "python",
   "pygments_lexer": "ipython2",
   "version": "2.7.12"
  }
 },
 "nbformat": 4,
 "nbformat_minor": 0
}
