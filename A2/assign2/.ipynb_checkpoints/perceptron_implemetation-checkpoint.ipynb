{
 "cells": [
  {
   "cell_type": "code",
   "execution_count": 1,
   "metadata": {
    "collapsed": true
   },
   "outputs": [],
   "source": [
    "import numpy as np\n",
    "import matplotlib.pyplot as plt\n"
   ]
  },
  {
   "cell_type": "code",
   "execution_count": 20,
   "metadata": {
    "collapsed": false
   },
   "outputs": [
    {
     "data": {
      "text/plain": [
       "array([[ 1,  1,  1, -1, -1],\n",
       "       [-1, -1, -1, -1, -1],\n",
       "       [-1,  1,  1,  1, -1],\n",
       "       [ 1,  1, -1, -1,  1]])"
      ]
     },
     "execution_count": 20,
     "metadata": {},
     "output_type": "execute_result"
    }
   ],
   "source": [
    "X = np.array([[1,1,1,-1,-1],\n",
    "              [-1,-1,-1,-1,-1],\n",
    "              [-1,1,1,1,-1],\n",
    "              [1,1,-1,-1,1]])\n",
    "X"
   ]
  },
  {
   "cell_type": "code",
   "execution_count": 25,
   "metadata": {
    "collapsed": false
   },
   "outputs": [
    {
     "data": {
      "text/plain": [
       "array([ 1,  1,  1, -1, -1])"
      ]
     },
     "execution_count": 25,
     "metadata": {},
     "output_type": "execute_result"
    }
   ],
   "source": [
    "X[0]"
   ]
  },
  {
   "cell_type": "code",
   "execution_count": 31,
   "metadata": {
    "collapsed": false
   },
   "outputs": [
    {
     "data": {
      "text/plain": [
       "array([ 0.25,  0.25,  0.25,  0.25,  0.25])"
      ]
     },
     "execution_count": 31,
     "metadata": {},
     "output_type": "execute_result"
    }
   ],
   "source": [
    "w1 = np.array([0.25]*5)\n",
    "w1"
   ]
  },
  {
   "cell_type": "code",
   "execution_count": 60,
   "metadata": {
    "collapsed": false
   },
   "outputs": [
    {
     "data": {
      "text/plain": [
       "0.25"
      ]
     },
     "execution_count": 60,
     "metadata": {},
     "output_type": "execute_result"
    }
   ],
   "source": [
    "y1 = np.dot(w1.T,X[0])\n",
    "y1"
   ]
  },
  {
   "cell_type": "code",
   "execution_count": 34,
   "metadata": {
    "collapsed": false
   },
   "outputs": [
    {
     "data": {
      "text/plain": [
       "-1.25"
      ]
     },
     "execution_count": 34,
     "metadata": {},
     "output_type": "execute_result"
    }
   ],
   "source": [
    "y2 = np.dot(w1,X[1])\n",
    "y2"
   ]
  },
  {
   "cell_type": "code",
   "execution_count": 37,
   "metadata": {
    "collapsed": false
   },
   "outputs": [
    {
     "data": {
      "text/plain": [
       "array([-0.75, -0.75, -0.75, -0.75, -0.75])"
      ]
     },
     "execution_count": 37,
     "metadata": {},
     "output_type": "execute_result"
    }
   ],
   "source": [
    "w2 = w1 + X[1]\n",
    "w2"
   ]
  },
  {
   "cell_type": "code",
   "execution_count": 38,
   "metadata": {
    "collapsed": false
   },
   "outputs": [
    {
     "data": {
      "text/plain": [
       "3.75"
      ]
     },
     "execution_count": 38,
     "metadata": {},
     "output_type": "execute_result"
    }
   ],
   "source": [
    "y2 = np.dot(w2,X[1])\n",
    "y2"
   ]
  },
  {
   "cell_type": "code",
   "execution_count": 40,
   "metadata": {
    "collapsed": false
   },
   "outputs": [
    {
     "data": {
      "text/plain": [
       "-0.75"
      ]
     },
     "execution_count": 40,
     "metadata": {},
     "output_type": "execute_result"
    }
   ],
   "source": [
    "y3 = np.dot(w2,X[2])\n",
    "y3"
   ]
  },
  {
   "cell_type": "code",
   "execution_count": 41,
   "metadata": {
    "collapsed": false
   },
   "outputs": [
    {
     "data": {
      "text/plain": [
       "array([-1.75,  0.25,  0.25,  0.25, -1.75])"
      ]
     },
     "execution_count": 41,
     "metadata": {},
     "output_type": "execute_result"
    }
   ],
   "source": [
    "w3 = w2+X[2]\n",
    "w3"
   ]
  },
  {
   "cell_type": "code",
   "execution_count": 42,
   "metadata": {
    "collapsed": false
   },
   "outputs": [
    {
     "data": {
      "text/plain": [
       "4.25"
      ]
     },
     "execution_count": 42,
     "metadata": {},
     "output_type": "execute_result"
    }
   ],
   "source": [
    "y3 = np.dot(w3,X[2])\n",
    "y3"
   ]
  },
  {
   "cell_type": "code",
   "execution_count": 43,
   "metadata": {
    "collapsed": false
   },
   "outputs": [
    {
     "data": {
      "text/plain": [
       "-3.75"
      ]
     },
     "execution_count": 43,
     "metadata": {},
     "output_type": "execute_result"
    }
   ],
   "source": [
    "y4 = np.dot(w3,X[3])\n",
    "y4"
   ]
  },
  {
   "cell_type": "code",
   "execution_count": 44,
   "metadata": {
    "collapsed": false
   },
   "outputs": [
    {
     "data": {
      "text/plain": [
       "array([-0.75,  1.25, -0.75, -0.75, -0.75])"
      ]
     },
     "execution_count": 44,
     "metadata": {},
     "output_type": "execute_result"
    }
   ],
   "source": [
    "w4 = w3+X[3]\n",
    "w4"
   ]
  },
  {
   "cell_type": "code",
   "execution_count": 46,
   "metadata": {
    "collapsed": false
   },
   "outputs": [
    {
     "data": {
      "text/plain": [
       "1.25"
      ]
     },
     "execution_count": 46,
     "metadata": {},
     "output_type": "execute_result"
    }
   ],
   "source": [
    "y4 = np.dot(w4,X[3])\n",
    "y4"
   ]
  },
  {
   "cell_type": "code",
   "execution_count": 51,
   "metadata": {
    "collapsed": false
   },
   "outputs": [
    {
     "data": {
      "text/plain": [
       "array([ 1.25,  1.75,  1.25,  1.25])"
      ]
     },
     "execution_count": 51,
     "metadata": {},
     "output_type": "execute_result"
    }
   ],
   "source": [
    "Y = np.dot(w4,X.T)\n",
    "Y"
   ]
  },
  {
   "cell_type": "code",
   "execution_count": 68,
   "metadata": {
    "collapsed": false
   },
   "outputs": [
    {
     "data": {
      "text/plain": [
       "(5,)"
      ]
     },
     "execution_count": 68,
     "metadata": {},
     "output_type": "execute_result"
    }
   ],
   "source": [
    "w.shape "
   ]
  },
  {
   "cell_type": "code",
   "execution_count": 83,
   "metadata": {
    "collapsed": false
   },
   "outputs": [
    {
     "name": "stdout",
     "output_type": "stream",
     "text": [
      "[ 1  1  1 -1 -1]\n",
      "[-1 -1 -1 -1 -1]\n",
      "[-1  1  1  1 -1]\n",
      "[ 1  1 -1 -1  1]\n"
     ]
    }
   ],
   "source": [
    "for i in range(len(X)):\n",
    "\n",
    "    print(X[i])\n",
    "    \n",
    "    "
   ]
  },
  {
   "cell_type": "code",
   "execution_count": 89,
   "metadata": {
    "collapsed": false
   },
   "outputs": [
    {
     "name": "stdout",
     "output_type": "stream",
     "text": [
      "iteration0 on X0\n",
      "iteration1 on X1\n",
      "iteration2 on X2\n",
      "iteration3 on X3\n",
      "[ 0.  0.  0.  0.  0.]\n",
      "iteration0 on X0\n",
      "iteration1 on X1\n",
      "iteration2 on X2\n",
      "iteration3 on X3\n",
      "[ 0.  0.  0.  0.  0.]\n",
      "iteration0 on X0\n",
      "iteration1 on X1\n",
      "iteration2 on X2\n",
      "iteration3 on X3\n",
      "[ 0.  0.  0.  0.  0.]\n",
      "iteration0 on X0\n",
      "iteration1 on X1\n",
      "iteration2 on X2\n",
      "iteration3 on X3\n",
      "[ 0.  0.  0.  0.  0.]\n",
      "iteration0 on X0\n",
      "iteration1 on X1\n",
      "iteration2 on X2\n",
      "iteration3 on X3\n",
      "[ 0.  0.  0.  0.  0.]\n",
      "iteration0 on X0\n",
      "iteration1 on X1\n",
      "iteration2 on X2\n",
      "iteration3 on X3\n",
      "[ 0.  0.  0.  0.  0.]\n",
      "iteration0 on X0\n",
      "iteration1 on X1\n",
      "iteration2 on X2\n",
      "iteration3 on X3\n",
      "[ 0.  0.  0.  0.  0.]\n",
      "iteration0 on X0\n",
      "iteration1 on X1\n",
      "iteration2 on X2\n",
      "iteration3 on X3\n",
      "[ 0.  0.  0.  0.  0.]\n",
      "iteration0 on X0\n",
      "iteration1 on X1\n",
      "iteration2 on X2\n",
      "iteration3 on X3\n",
      "[ 0.  0.  0.  0.  0.]\n",
      "iteration0 on X0\n",
      "iteration1 on X1\n",
      "iteration2 on X2\n",
      "iteration3 on X3\n",
      "[ 0.  0.  0.  0.  0.]\n"
     ]
    },
    {
     "data": {
      "text/plain": [
       "array([ 0.,  0.,  0.,  0.,  0.])"
      ]
     },
     "execution_count": 89,
     "metadata": {},
     "output_type": "execute_result"
    }
   ],
   "source": [
    "for epoc in range(10):\n",
    "    for i in range(len(X)):\n",
    "        print(\"iteration{} on X{}\".format(i,i))\n",
    "        y = np.dot(X[i],w)\n",
    "        if y<0:\n",
    "            print(\"Misclassified sample x{}\".format(i))\n",
    "            w = w+X[i]\n",
    "            print(\"updated weight w = {}\".format(w))\n",
    "    print(w)\n",
    "    w = w\n",
    "\n",
    "w        "
   ]
  },
  {
   "cell_type": "code",
   "execution_count": 120,
   "metadata": {
    "collapsed": false
   },
   "outputs": [],
   "source": [
    "def percp(train, weights, nb_epoch=1):\n",
    "    w = weights\n",
    "    X = train\n",
    "    for epoc in range(nb_epoch):\n",
    "        for i in range(len(X)):\n",
    "            print(\"iteration{} on X{}\".format(i,i))\n",
    "            y = np.dot(X[i],w)\n",
    "            if y<0:\n",
    "                print(\"Misclassified sample x{}\".format(i))\n",
    "                w = w+X[i]\n",
    "                print(\"updated weight w = {}\".format(w))\n",
    "    print(w)\n",
    "    return w"
   ]
  },
  {
   "cell_type": "code",
   "execution_count": 121,
   "metadata": {
    "collapsed": false
   },
   "outputs": [
    {
     "name": "stdout",
     "output_type": "stream",
     "text": [
      "iteration0 on X0\n",
      "Misclassified sample x0\n",
      "updated weight w = [-1.  -0.5 -0.5  1.   1. ]\n",
      "iteration1 on X1\n",
      "iteration2 on X2\n",
      "iteration3 on X3\n",
      "iteration0 on X0\n",
      "iteration1 on X1\n",
      "iteration2 on X2\n",
      "iteration3 on X3\n",
      "[-1.  -0.5 -0.5  1.   1. ]\n"
     ]
    }
   ],
   "source": [
    "w = np.array([0,0.5,0.5,0,0])\n",
    "percp(X,w,2)"
   ]
  },
  {
   "cell_type": "code",
   "execution_count": 122,
   "metadata": {
    "collapsed": false
   },
   "outputs": [
    {
     "name": "stdout",
     "output_type": "stream",
     "text": [
      "iteration0 on X0\n",
      "Misclassified sample x0\n",
      "updated weight w = [-0.75 -0.75 -0.75  1.25  1.25]\n",
      "iteration1 on X1\n",
      "iteration2 on X2\n",
      "iteration3 on X3\n",
      "iteration0 on X0\n",
      "iteration1 on X1\n",
      "iteration2 on X2\n",
      "iteration3 on X3\n",
      "iteration0 on X0\n",
      "iteration1 on X1\n",
      "iteration2 on X2\n",
      "iteration3 on X3\n",
      "[-0.75 -0.75 -0.75  1.25  1.25]\n"
     ]
    }
   ],
   "source": [
    "w = np.array([0.25]*5)\n",
    "percp(X,w,3)"
   ]
  },
  {
   "cell_type": "code",
   "execution_count": 123,
   "metadata": {
    "collapsed": true
   },
   "outputs": [],
   "source": [
    "X = -X"
   ]
  },
  {
   "cell_type": "code",
   "execution_count": 124,
   "metadata": {
    "collapsed": false
   },
   "outputs": [
    {
     "name": "stdout",
     "output_type": "stream",
     "text": [
      "iteration0 on X0\n",
      "iteration1 on X1\n",
      "Misclassified sample x1\n",
      "updated weight w = [-0.75 -0.75 -0.75 -0.75 -0.75]\n",
      "iteration2 on X2\n",
      "Misclassified sample x2\n",
      "updated weight w = [-1.75  0.25  0.25  0.25 -1.75]\n",
      "iteration3 on X3\n",
      "Misclassified sample x3\n",
      "updated weight w = [-0.75  1.25 -0.75 -0.75 -0.75]\n",
      "iteration0 on X0\n",
      "iteration1 on X1\n",
      "iteration2 on X2\n",
      "iteration3 on X3\n",
      "iteration0 on X0\n",
      "iteration1 on X1\n",
      "iteration2 on X2\n",
      "iteration3 on X3\n",
      "[-0.75  1.25 -0.75 -0.75 -0.75]\n"
     ]
    }
   ],
   "source": [
    "w = np.array([0.25]*5)\n",
    "percp(X,w,3)"
   ]
  },
  {
   "cell_type": "markdown",
   "metadata": {},
   "source": [
    "## The Other data set : non-separable\n",
    "we have 2 features \n",
    "\n",
    "C1: [2,1],[4,3],[3,5]\n",
    "\n",
    "C2: [1,3],[5,6]    "
   ]
  },
  {
   "cell_type": "code",
   "execution_count": 125,
   "metadata": {
    "collapsed": false
   },
   "outputs": [
    {
     "data": {
      "text/plain": [
       "array([[ 1,  2,  1],\n",
       "       [ 1,  4,  3],\n",
       "       [ 1,  3,  5],\n",
       "       [-1, -1, -3],\n",
       "       [-1, -5, -6]])"
      ]
     },
     "execution_count": 125,
     "metadata": {},
     "output_type": "execute_result"
    }
   ],
   "source": [
    "X1 = np.array([[1,2,1],[1,4,3],[1,3,5],[-1,-1,-3],[-1,-5,-6]])\n",
    "X1"
   ]
  },
  {
   "cell_type": "markdown",
   "metadata": {},
   "source": [
    "Lets Initialize weight vector as [1,1,1], and fixed learning rate n =1\n",
    "Therefore our learning algorithm is: \n",
    "\n",
    "w(k+1) = w(k) + (x)_misclassified"
   ]
  },
  {
   "cell_type": "code",
   "execution_count": 126,
   "metadata": {
    "collapsed": false
   },
   "outputs": [
    {
     "data": {
      "text/plain": [
       "array([[1, 1, 1]])"
      ]
     },
     "execution_count": 126,
     "metadata": {},
     "output_type": "execute_result"
    }
   ],
   "source": [
    "w1 = np.array([[1,1,1]])\n",
    "w1"
   ]
  },
  {
   "cell_type": "code",
   "execution_count": 127,
   "metadata": {
    "collapsed": false
   },
   "outputs": [
    {
     "data": {
      "text/plain": [
       "array([1, 2, 1])"
      ]
     },
     "execution_count": 127,
     "metadata": {},
     "output_type": "execute_result"
    }
   ],
   "source": [
    "X1[0]"
   ]
  },
  {
   "cell_type": "code",
   "execution_count": 128,
   "metadata": {
    "collapsed": false
   },
   "outputs": [
    {
     "data": {
      "text/plain": [
       "array([4])"
      ]
     },
     "execution_count": 128,
     "metadata": {},
     "output_type": "execute_result"
    }
   ],
   "source": [
    "np.dot(X1[0],w1.T)"
   ]
  },
  {
   "cell_type": "code",
   "execution_count": 129,
   "metadata": {
    "collapsed": false
   },
   "outputs": [
    {
     "name": "stdout",
     "output_type": "stream",
     "text": [
      "iteration0 on X0\n",
      "iteration1 on X1\n",
      "iteration2 on X2\n",
      "iteration3 on X3\n",
      "Misclassified sample x3\n",
      "updated weight w = [[ 0  0 -2]\n",
      " [ 0  0 -2]\n",
      " [ 0  0 -2]]\n",
      "iteration4 on X4\n"
     ]
    },
    {
     "ename": "ValueError",
     "evalue": "The truth value of an array with more than one element is ambiguous. Use a.any() or a.all()",
     "output_type": "error",
     "traceback": [
      "\u001b[1;31m---------------------------------------------------------------------------\u001b[0m",
      "\u001b[1;31mValueError\u001b[0m                                Traceback (most recent call last)",
      "\u001b[1;32m<ipython-input-129-622d14049730>\u001b[0m in \u001b[0;36m<module>\u001b[1;34m()\u001b[0m\n\u001b[1;32m----> 1\u001b[1;33m \u001b[0mpercp\u001b[0m\u001b[1;33m(\u001b[0m\u001b[0mX1\u001b[0m\u001b[1;33m,\u001b[0m\u001b[0mw1\u001b[0m\u001b[1;33m.\u001b[0m\u001b[0mT\u001b[0m\u001b[1;33m,\u001b[0m\u001b[1;36m1\u001b[0m\u001b[1;33m)\u001b[0m\u001b[1;33m\u001b[0m\u001b[0m\n\u001b[0m",
      "\u001b[1;32m<ipython-input-120-38d1ecf55b5f>\u001b[0m in \u001b[0;36mpercp\u001b[1;34m(train, weights, nb_epoch)\u001b[0m\n\u001b[0;32m      6\u001b[0m             \u001b[1;32mprint\u001b[0m\u001b[1;33m(\u001b[0m\u001b[1;34m\"iteration{} on X{}\"\u001b[0m\u001b[1;33m.\u001b[0m\u001b[0mformat\u001b[0m\u001b[1;33m(\u001b[0m\u001b[0mi\u001b[0m\u001b[1;33m,\u001b[0m\u001b[0mi\u001b[0m\u001b[1;33m)\u001b[0m\u001b[1;33m)\u001b[0m\u001b[1;33m\u001b[0m\u001b[0m\n\u001b[0;32m      7\u001b[0m             \u001b[0my\u001b[0m \u001b[1;33m=\u001b[0m \u001b[0mnp\u001b[0m\u001b[1;33m.\u001b[0m\u001b[0mdot\u001b[0m\u001b[1;33m(\u001b[0m\u001b[0mX\u001b[0m\u001b[1;33m[\u001b[0m\u001b[0mi\u001b[0m\u001b[1;33m]\u001b[0m\u001b[1;33m,\u001b[0m\u001b[0mw\u001b[0m\u001b[1;33m)\u001b[0m\u001b[1;33m\u001b[0m\u001b[0m\n\u001b[1;32m----> 8\u001b[1;33m             \u001b[1;32mif\u001b[0m \u001b[0my\u001b[0m\u001b[1;33m<\u001b[0m\u001b[1;36m0\u001b[0m\u001b[1;33m:\u001b[0m\u001b[1;33m\u001b[0m\u001b[0m\n\u001b[0m\u001b[0;32m      9\u001b[0m                 \u001b[1;32mprint\u001b[0m\u001b[1;33m(\u001b[0m\u001b[1;34m\"Misclassified sample x{}\"\u001b[0m\u001b[1;33m.\u001b[0m\u001b[0mformat\u001b[0m\u001b[1;33m(\u001b[0m\u001b[0mi\u001b[0m\u001b[1;33m)\u001b[0m\u001b[1;33m)\u001b[0m\u001b[1;33m\u001b[0m\u001b[0m\n\u001b[0;32m     10\u001b[0m                 \u001b[0mw\u001b[0m \u001b[1;33m=\u001b[0m \u001b[0mw\u001b[0m\u001b[1;33m+\u001b[0m\u001b[0mX\u001b[0m\u001b[1;33m[\u001b[0m\u001b[0mi\u001b[0m\u001b[1;33m]\u001b[0m\u001b[1;33m\u001b[0m\u001b[0m\n",
      "\u001b[1;31mValueError\u001b[0m: The truth value of an array with more than one element is ambiguous. Use a.any() or a.all()"
     ]
    }
   ],
   "source": [
    "percp(X1,w1.T,1)"
   ]
  },
  {
   "cell_type": "code",
   "execution_count": null,
   "metadata": {
    "collapsed": true
   },
   "outputs": [],
   "source": []
  },
  {
   "cell_type": "code",
   "execution_count": null,
   "metadata": {
    "collapsed": true
   },
   "outputs": [],
   "source": []
  }
 ],
 "metadata": {
  "kernelspec": {
   "display_name": "Python [Root]",
   "language": "python",
   "name": "Python [Root]"
  },
  "language_info": {
   "codemirror_mode": {
    "name": "ipython",
    "version": 2
   },
   "file_extension": ".py",
   "mimetype": "text/x-python",
   "name": "python",
   "nbconvert_exporter": "python",
   "pygments_lexer": "ipython2",
   "version": "2.7.12"
  }
 },
 "nbformat": 4,
 "nbformat_minor": 0
}
